{
 "cells": [
  {
   "cell_type": "markdown",
   "metadata": {},
   "source": [
    "## Biodiversity in National Parks"
   ]
  },
  {
   "cell_type": "markdown",
   "metadata": {},
   "source": [
    "This is a project launched at Codecademy and it is a part of Data Scientist Career Path. More information [here](https://www.codecademy.com/learn/paths/data-science)"
   ]
  },
  {
   "cell_type": "markdown",
   "metadata": {},
   "source": [
    "# Introduction -  Biodiversity in National Parks Portfolio Project\n",
    "\n",
    "This goal of this project is to analyze biodiversity data from the National Parks Service, particularly around various species observed in different national park locations.\n",
    "\n",
    "This project will scope, analyze, prepare, plot data, and seek to explain the findings from the analysis.\n",
    "\n",
    "\n",
    "**Note:** The data for this project is *inspired* by real data, but is mostly fictional."
   ]
  },
  {
   "cell_type": "markdown",
   "metadata": {},
   "source": [
    "## Project Scope"
   ]
  },
  {
   "cell_type": "markdown",
   "metadata": {},
   "source": [
    "It's beneficial to create a project scope whenever a new project is being started. Four sections were created below to help guide the project's process and progress. The first section is the project goals, this section will define the high-level objectives and set the intentions for this project. The next section is the data, luckily in this project, data is already provided but still needs to be checked if project goals can be met with the available data. Thirdly, the analysis will have to be thought through, which include the methods and questions that are aligned with the project goals. Lastly, evaluation will help us build conclusions and findings from our analysis."
   ]
  },
  {
   "cell_type": "markdown",
   "metadata": {},
   "source": [
    "#### Goals"
   ]
  },
  {
   "cell_type": "markdown",
   "metadata": {},
   "source": [
    "- How many categories are included in this dataset?\n",
    "- Do we have a lot of species or just a few?\n",
    "- Wich park are available?\n",
    "- How looks the percentage distribution of each species category in National Parks?\n",
    "- Which endangered animals are observed frequently?\n",
    "- Which animals are the most and the least observed species in each park?\n",
    "- Which categories (Bird, Mammal, etc.) have the highest chance to become at risk an need attention?\n",
    "- Sparrow and hawks are observed frequently and they belong to the same category (birds): is the relationship between observations of these species and their risk of extinction statistically significant?\n",
    "- Which park has more observations of endangered sparrows and hawks?"
   ]
  },
  {
   "cell_type": "markdown",
   "metadata": {},
   "source": [
    "#### Data "
   ]
  },
  {
   "cell_type": "markdown",
   "metadata": {},
   "source": [
    "- I will use the `observations.csv` and `species_info.csv` files supplied from Codecademy"
   ]
  },
  {
   "cell_type": "markdown",
   "metadata": {},
   "source": [
    "#### Analysis"
   ]
  },
  {
   "cell_type": "markdown",
   "metadata": {},
   "source": [
    "In this section, descriptive statistics and data visualization techniques will be employed to understand the data better. Statistical inference will also be used to test if the observed values are statistically significant. "
   ]
  },
  {
   "cell_type": "markdown",
   "metadata": {},
   "source": [
    "#### Evaluation"
   ]
  },
  {
   "cell_type": "markdown",
   "metadata": {},
   "source": [
    "Lastly, it's a good idea to revisit the goals and check if the output of the analysis corresponds to the questions first set to be answered (in the goals section). This section will also reflect on what has been learned through the process, and if any of the questions were unable to be answered. This could also include limitations or if any of the analysis could have been done using different methodologies."
   ]
  },
  {
   "cell_type": "markdown",
   "metadata": {},
   "source": [
    "## Import Python Modules"
   ]
  },
  {
   "cell_type": "markdown",
   "metadata": {},
   "source": [
    "First import the preliminary modules that will be used in this project:"
   ]
  },
  {
   "cell_type": "code",
   "execution_count": 1,
   "metadata": {},
   "outputs": [],
   "source": [
    "import pandas as pd\n",
    "import numpy as np\n",
    "import seaborn as sns\n",
    "from matplotlib import pyplot as plt\n",
    "from matplotlib.ticker import MultipleLocator\n",
    "from scipy.stats import chi2_contingency\n",
    "%matplotlib inline"
   ]
  },
  {
   "cell_type": "markdown",
   "metadata": {},
   "source": [
    "## Load the Data"
   ]
  },
  {
   "cell_type": "markdown",
   "metadata": {},
   "source": [
    "To analyze the status of conservation of species and their observations in national parks, load the datasets into DataFrames. Once loaded as DataFrames the data can be explored and visualized with Python."
   ]
  },
  {
   "cell_type": "code",
   "execution_count": 2,
   "metadata": {},
   "outputs": [
    {
     "data": {
      "text/html": [
       "<style  type=\"text/css\" >\n",
       "</style><table id=\"T_5812a363_96f7_11eb_8857_70665508755c\" ><caption>Infos on Species</caption><thead>    <tr>        <th class=\"blank level0\" ></th>        <th class=\"col_heading level0 col0\" >category</th>        <th class=\"col_heading level0 col1\" >scientific_name</th>        <th class=\"col_heading level0 col2\" >common_names</th>        <th class=\"col_heading level0 col3\" >conservation_status</th>    </tr></thead><tbody>\n",
       "                <tr>\n",
       "                        <th id=\"T_5812a363_96f7_11eb_8857_70665508755clevel0_row0\" class=\"row_heading level0 row0\" >0</th>\n",
       "                        <td id=\"T_5812a363_96f7_11eb_8857_70665508755crow0_col0\" class=\"data row0 col0\" >Mammal</td>\n",
       "                        <td id=\"T_5812a363_96f7_11eb_8857_70665508755crow0_col1\" class=\"data row0 col1\" >Clethrionomys gapperi gapperi</td>\n",
       "                        <td id=\"T_5812a363_96f7_11eb_8857_70665508755crow0_col2\" class=\"data row0 col2\" >Gapper's Red-Backed Vole</td>\n",
       "                        <td id=\"T_5812a363_96f7_11eb_8857_70665508755crow0_col3\" class=\"data row0 col3\" >nan</td>\n",
       "            </tr>\n",
       "            <tr>\n",
       "                        <th id=\"T_5812a363_96f7_11eb_8857_70665508755clevel0_row1\" class=\"row_heading level0 row1\" >1</th>\n",
       "                        <td id=\"T_5812a363_96f7_11eb_8857_70665508755crow1_col0\" class=\"data row1 col0\" >Mammal</td>\n",
       "                        <td id=\"T_5812a363_96f7_11eb_8857_70665508755crow1_col1\" class=\"data row1 col1\" >Bos bison</td>\n",
       "                        <td id=\"T_5812a363_96f7_11eb_8857_70665508755crow1_col2\" class=\"data row1 col2\" >American Bison, Bison</td>\n",
       "                        <td id=\"T_5812a363_96f7_11eb_8857_70665508755crow1_col3\" class=\"data row1 col3\" >nan</td>\n",
       "            </tr>\n",
       "            <tr>\n",
       "                        <th id=\"T_5812a363_96f7_11eb_8857_70665508755clevel0_row2\" class=\"row_heading level0 row2\" >2</th>\n",
       "                        <td id=\"T_5812a363_96f7_11eb_8857_70665508755crow2_col0\" class=\"data row2 col0\" >Mammal</td>\n",
       "                        <td id=\"T_5812a363_96f7_11eb_8857_70665508755crow2_col1\" class=\"data row2 col1\" >Bos taurus</td>\n",
       "                        <td id=\"T_5812a363_96f7_11eb_8857_70665508755crow2_col2\" class=\"data row2 col2\" >Aurochs, Aurochs, Domestic Cattle (Feral), Domesticated Cattle</td>\n",
       "                        <td id=\"T_5812a363_96f7_11eb_8857_70665508755crow2_col3\" class=\"data row2 col3\" >nan</td>\n",
       "            </tr>\n",
       "            <tr>\n",
       "                        <th id=\"T_5812a363_96f7_11eb_8857_70665508755clevel0_row3\" class=\"row_heading level0 row3\" >3</th>\n",
       "                        <td id=\"T_5812a363_96f7_11eb_8857_70665508755crow3_col0\" class=\"data row3 col0\" >Mammal</td>\n",
       "                        <td id=\"T_5812a363_96f7_11eb_8857_70665508755crow3_col1\" class=\"data row3 col1\" >Ovis aries</td>\n",
       "                        <td id=\"T_5812a363_96f7_11eb_8857_70665508755crow3_col2\" class=\"data row3 col2\" >Domestic Sheep, Mouflon, Red Sheep, Sheep (Feral)</td>\n",
       "                        <td id=\"T_5812a363_96f7_11eb_8857_70665508755crow3_col3\" class=\"data row3 col3\" >nan</td>\n",
       "            </tr>\n",
       "            <tr>\n",
       "                        <th id=\"T_5812a363_96f7_11eb_8857_70665508755clevel0_row4\" class=\"row_heading level0 row4\" >4</th>\n",
       "                        <td id=\"T_5812a363_96f7_11eb_8857_70665508755crow4_col0\" class=\"data row4 col0\" >Mammal</td>\n",
       "                        <td id=\"T_5812a363_96f7_11eb_8857_70665508755crow4_col1\" class=\"data row4 col1\" >Cervus elaphus</td>\n",
       "                        <td id=\"T_5812a363_96f7_11eb_8857_70665508755crow4_col2\" class=\"data row4 col2\" >Wapiti Or Elk</td>\n",
       "                        <td id=\"T_5812a363_96f7_11eb_8857_70665508755crow4_col3\" class=\"data row4 col3\" >nan</td>\n",
       "            </tr>\n",
       "    </tbody></table>"
      ],
      "text/plain": [
       "<pandas.io.formats.style.Styler at 0x22ee97a7be0>"
      ]
     },
     "metadata": {},
     "output_type": "display_data"
    }
   ],
   "source": [
    "# import first csv file \n",
    "s_info_df = pd.read_csv('species_info.csv')\n",
    "display(s_info_df.head().style.set_caption('Infos on Species'))"
   ]
  },
  {
   "cell_type": "code",
   "execution_count": 3,
   "metadata": {},
   "outputs": [
    {
     "data": {
      "text/html": [
       "<style  type=\"text/css\" >\n",
       "</style><table id=\"T_591a7523_96f7_11eb_a085_70665508755c\" ><caption>Observations in National Parks</caption><thead>    <tr>        <th class=\"blank level0\" ></th>        <th class=\"col_heading level0 col0\" >scientific_name</th>        <th class=\"col_heading level0 col1\" >park_name</th>        <th class=\"col_heading level0 col2\" >observations</th>    </tr></thead><tbody>\n",
       "                <tr>\n",
       "                        <th id=\"T_591a7523_96f7_11eb_a085_70665508755clevel0_row0\" class=\"row_heading level0 row0\" >0</th>\n",
       "                        <td id=\"T_591a7523_96f7_11eb_a085_70665508755crow0_col0\" class=\"data row0 col0\" >Vicia benghalensis</td>\n",
       "                        <td id=\"T_591a7523_96f7_11eb_a085_70665508755crow0_col1\" class=\"data row0 col1\" >Great Smoky Mountains National Park</td>\n",
       "                        <td id=\"T_591a7523_96f7_11eb_a085_70665508755crow0_col2\" class=\"data row0 col2\" >68</td>\n",
       "            </tr>\n",
       "            <tr>\n",
       "                        <th id=\"T_591a7523_96f7_11eb_a085_70665508755clevel0_row1\" class=\"row_heading level0 row1\" >1</th>\n",
       "                        <td id=\"T_591a7523_96f7_11eb_a085_70665508755crow1_col0\" class=\"data row1 col0\" >Neovison vison</td>\n",
       "                        <td id=\"T_591a7523_96f7_11eb_a085_70665508755crow1_col1\" class=\"data row1 col1\" >Great Smoky Mountains National Park</td>\n",
       "                        <td id=\"T_591a7523_96f7_11eb_a085_70665508755crow1_col2\" class=\"data row1 col2\" >77</td>\n",
       "            </tr>\n",
       "            <tr>\n",
       "                        <th id=\"T_591a7523_96f7_11eb_a085_70665508755clevel0_row2\" class=\"row_heading level0 row2\" >2</th>\n",
       "                        <td id=\"T_591a7523_96f7_11eb_a085_70665508755crow2_col0\" class=\"data row2 col0\" >Prunus subcordata</td>\n",
       "                        <td id=\"T_591a7523_96f7_11eb_a085_70665508755crow2_col1\" class=\"data row2 col1\" >Yosemite National Park</td>\n",
       "                        <td id=\"T_591a7523_96f7_11eb_a085_70665508755crow2_col2\" class=\"data row2 col2\" >138</td>\n",
       "            </tr>\n",
       "            <tr>\n",
       "                        <th id=\"T_591a7523_96f7_11eb_a085_70665508755clevel0_row3\" class=\"row_heading level0 row3\" >3</th>\n",
       "                        <td id=\"T_591a7523_96f7_11eb_a085_70665508755crow3_col0\" class=\"data row3 col0\" >Abutilon theophrasti</td>\n",
       "                        <td id=\"T_591a7523_96f7_11eb_a085_70665508755crow3_col1\" class=\"data row3 col1\" >Bryce National Park</td>\n",
       "                        <td id=\"T_591a7523_96f7_11eb_a085_70665508755crow3_col2\" class=\"data row3 col2\" >84</td>\n",
       "            </tr>\n",
       "            <tr>\n",
       "                        <th id=\"T_591a7523_96f7_11eb_a085_70665508755clevel0_row4\" class=\"row_heading level0 row4\" >4</th>\n",
       "                        <td id=\"T_591a7523_96f7_11eb_a085_70665508755crow4_col0\" class=\"data row4 col0\" >Githopsis specularioides</td>\n",
       "                        <td id=\"T_591a7523_96f7_11eb_a085_70665508755crow4_col1\" class=\"data row4 col1\" >Great Smoky Mountains National Park</td>\n",
       "                        <td id=\"T_591a7523_96f7_11eb_a085_70665508755crow4_col2\" class=\"data row4 col2\" >85</td>\n",
       "            </tr>\n",
       "    </tbody></table>"
      ],
      "text/plain": [
       "<pandas.io.formats.style.Styler at 0x22eed2ee9a0>"
      ]
     },
     "metadata": {},
     "output_type": "display_data"
    }
   ],
   "source": [
    "# import second csv file\n",
    "obs_df = pd.read_csv('observations.csv')\n",
    "display(obs_df.head().style.set_caption('Observations in National Parks'))"
   ]
  },
  {
   "cell_type": "markdown",
   "metadata": {},
   "source": [
    "## Exploratory Data Analysis"
   ]
  },
  {
   "cell_type": "markdown",
   "metadata": {},
   "source": [
    "First I will remove string 'National Park' from park_name (smallest labels on graphs)"
   ]
  },
  {
   "cell_type": "code",
   "execution_count": 4,
   "metadata": {},
   "outputs": [
    {
     "data": {
      "text/html": [
       "<style  type=\"text/css\" >\n",
       "</style><table id=\"T_5ab02e6f_96f7_11eb_87aa_70665508755c\" ><caption>Observations in National Parks</caption><thead>    <tr>        <th class=\"blank level0\" ></th>        <th class=\"col_heading level0 col0\" >scientific_name</th>        <th class=\"col_heading level0 col1\" >park_name</th>        <th class=\"col_heading level0 col2\" >observations</th>    </tr></thead><tbody>\n",
       "                <tr>\n",
       "                        <th id=\"T_5ab02e6f_96f7_11eb_87aa_70665508755clevel0_row0\" class=\"row_heading level0 row0\" >0</th>\n",
       "                        <td id=\"T_5ab02e6f_96f7_11eb_87aa_70665508755crow0_col0\" class=\"data row0 col0\" >Vicia benghalensis</td>\n",
       "                        <td id=\"T_5ab02e6f_96f7_11eb_87aa_70665508755crow0_col1\" class=\"data row0 col1\" >Great Smoky Mountains </td>\n",
       "                        <td id=\"T_5ab02e6f_96f7_11eb_87aa_70665508755crow0_col2\" class=\"data row0 col2\" >68</td>\n",
       "            </tr>\n",
       "            <tr>\n",
       "                        <th id=\"T_5ab02e6f_96f7_11eb_87aa_70665508755clevel0_row1\" class=\"row_heading level0 row1\" >1</th>\n",
       "                        <td id=\"T_5ab02e6f_96f7_11eb_87aa_70665508755crow1_col0\" class=\"data row1 col0\" >Neovison vison</td>\n",
       "                        <td id=\"T_5ab02e6f_96f7_11eb_87aa_70665508755crow1_col1\" class=\"data row1 col1\" >Great Smoky Mountains </td>\n",
       "                        <td id=\"T_5ab02e6f_96f7_11eb_87aa_70665508755crow1_col2\" class=\"data row1 col2\" >77</td>\n",
       "            </tr>\n",
       "            <tr>\n",
       "                        <th id=\"T_5ab02e6f_96f7_11eb_87aa_70665508755clevel0_row2\" class=\"row_heading level0 row2\" >2</th>\n",
       "                        <td id=\"T_5ab02e6f_96f7_11eb_87aa_70665508755crow2_col0\" class=\"data row2 col0\" >Prunus subcordata</td>\n",
       "                        <td id=\"T_5ab02e6f_96f7_11eb_87aa_70665508755crow2_col1\" class=\"data row2 col1\" >Yosemite </td>\n",
       "                        <td id=\"T_5ab02e6f_96f7_11eb_87aa_70665508755crow2_col2\" class=\"data row2 col2\" >138</td>\n",
       "            </tr>\n",
       "            <tr>\n",
       "                        <th id=\"T_5ab02e6f_96f7_11eb_87aa_70665508755clevel0_row3\" class=\"row_heading level0 row3\" >3</th>\n",
       "                        <td id=\"T_5ab02e6f_96f7_11eb_87aa_70665508755crow3_col0\" class=\"data row3 col0\" >Abutilon theophrasti</td>\n",
       "                        <td id=\"T_5ab02e6f_96f7_11eb_87aa_70665508755crow3_col1\" class=\"data row3 col1\" >Bryce </td>\n",
       "                        <td id=\"T_5ab02e6f_96f7_11eb_87aa_70665508755crow3_col2\" class=\"data row3 col2\" >84</td>\n",
       "            </tr>\n",
       "            <tr>\n",
       "                        <th id=\"T_5ab02e6f_96f7_11eb_87aa_70665508755clevel0_row4\" class=\"row_heading level0 row4\" >4</th>\n",
       "                        <td id=\"T_5ab02e6f_96f7_11eb_87aa_70665508755crow4_col0\" class=\"data row4 col0\" >Githopsis specularioides</td>\n",
       "                        <td id=\"T_5ab02e6f_96f7_11eb_87aa_70665508755crow4_col1\" class=\"data row4 col1\" >Great Smoky Mountains </td>\n",
       "                        <td id=\"T_5ab02e6f_96f7_11eb_87aa_70665508755crow4_col2\" class=\"data row4 col2\" >85</td>\n",
       "            </tr>\n",
       "    </tbody></table>"
      ],
      "text/plain": [
       "<pandas.io.formats.style.Styler at 0x22ee97b92b0>"
      ]
     },
     "metadata": {},
     "output_type": "display_data"
    }
   ],
   "source": [
    "obs_df['park_name'] = obs_df['park_name'].str.replace('National Park', '')\n",
    "display(obs_df.head().style.set_caption('Observations in National Parks'))"
   ]
  },
  {
   "cell_type": "markdown",
   "metadata": {},
   "source": [
    "Find how many rows and columns (respectively) we have in DataFrame spieces and observations."
   ]
  },
  {
   "cell_type": "code",
   "execution_count": 5,
   "metadata": {},
   "outputs": [
    {
     "name": "stdout",
     "output_type": "stream",
     "text": [
      "spieces shape: (5824, 4)\n",
      "observations shape: (23296, 3)\n"
     ]
    }
   ],
   "source": [
    "print(f\"spieces shape: {s_info_df.shape}\")\n",
    "print(f\"observations shape: {obs_df.shape}\")"
   ]
  },
  {
   "cell_type": "markdown",
   "metadata": {},
   "source": [
    "Find out how many species are in DataFrame `s_info_df` and how many different category exists."
   ]
  },
  {
   "cell_type": "code",
   "execution_count": 6,
   "metadata": {},
   "outputs": [
    {
     "name": "stdout",
     "output_type": "stream",
     "text": [
      "spieces number: 5541\n"
     ]
    }
   ],
   "source": [
    "print(f\"spieces number: {s_info_df.scientific_name.nunique()}\")"
   ]
  },
  {
   "cell_type": "code",
   "execution_count": 7,
   "metadata": {},
   "outputs": [
    {
     "name": "stdout",
     "output_type": "stream",
     "text": [
      "spieces number: 7\n",
      "spieces categories: ['Mammal' 'Bird' 'Reptile' 'Amphibian' 'Fish' 'Vascular Plant'\n",
      " 'Nonvascular Plant']\n"
     ]
    }
   ],
   "source": [
    "print(f\"spieces number: {s_info_df.category.nunique()}\")\n",
    "print(f\"spieces categories: {s_info_df.category.unique()}\")"
   ]
  },
  {
   "cell_type": "markdown",
   "metadata": {},
   "source": [
    "Find out how many different National Parks are in DataFrame `obs_df` "
   ]
  },
  {
   "cell_type": "code",
   "execution_count": 8,
   "metadata": {},
   "outputs": [
    {
     "name": "stdout",
     "output_type": "stream",
     "text": [
      "Numbers of different National Parks: 4\n",
      "Different National Parks: ['Great Smoky Mountains ' 'Yosemite ' 'Bryce ' 'Yellowstone ']\n"
     ]
    }
   ],
   "source": [
    "print(f\"Numbers of different National Parks: {obs_df.park_name.nunique()}\")\n",
    "print(f\"Different National Parks: {obs_df.park_name.unique()}\")"
   ]
  },
  {
   "cell_type": "code",
   "execution_count": 9,
   "metadata": {},
   "outputs": [
    {
     "name": "stdout",
     "output_type": "stream",
     "text": [
      "Total number of observations: 3314739\n"
     ]
    }
   ],
   "source": [
    "print(f\"Total number of observations: {obs_df.observations.sum()}\")"
   ]
  },
  {
   "cell_type": "code",
   "execution_count": 10,
   "metadata": {},
   "outputs": [
    {
     "name": "stdout",
     "output_type": "stream",
     "text": [
      "Conversation status unique values: [nan 'Species of Concern' 'Endangered' 'Threatened' 'In Recovery']\n"
     ]
    }
   ],
   "source": [
    "print(f\"Conversation status unique values: {s_info_df.conservation_status.unique()}\")"
   ]
  },
  {
   "cell_type": "markdown",
   "metadata": {},
   "source": [
    "There are 4 unique value in column **conservation_status:** `Species of Concern`, `Endangered`, `Threatened`, `In Recovery` and `NaN` value. "
   ]
  },
  {
   "cell_type": "markdown",
   "metadata": {},
   "source": [
    "Let's change `NaN` values to `Low Risk`"
   ]
  },
  {
   "cell_type": "code",
   "execution_count": 11,
   "metadata": {},
   "outputs": [],
   "source": [
    "s_info_df.conservation_status[s_info_df.conservation_status.isna()] = 'Low Risk'\n",
    "s_info_df.conservation_status = pd.Categorical(s_info_df.conservation_status,\n",
    "                                               categories = ['Low Risk', 'Species of Concern', 'In Recovery', 'Threatened',\n",
    "                                                             'Endangered'], ordered = True)"
   ]
  },
  {
   "cell_type": "markdown",
   "metadata": {},
   "source": [
    "**Note:** I grouped conservation status due to information found on this [page](https://www.usgs.gov/faqs/what-are-differences-between-endangered-threatened-imperiled-and-risk-species?qt-news_science_products=0#qt-news_science_products)"
   ]
  },
  {
   "cell_type": "code",
   "execution_count": 12,
   "metadata": {},
   "outputs": [
    {
     "data": {
      "text/html": [
       "<div>\n",
       "<style scoped>\n",
       "    .dataframe tbody tr th:only-of-type {\n",
       "        vertical-align: middle;\n",
       "    }\n",
       "\n",
       "    .dataframe tbody tr th {\n",
       "        vertical-align: top;\n",
       "    }\n",
       "\n",
       "    .dataframe thead th {\n",
       "        text-align: right;\n",
       "    }\n",
       "</style>\n",
       "<table border=\"1\" class=\"dataframe\">\n",
       "  <thead>\n",
       "    <tr style=\"text-align: right;\">\n",
       "      <th></th>\n",
       "      <th>conservation_status</th>\n",
       "    </tr>\n",
       "  </thead>\n",
       "  <tbody>\n",
       "    <tr>\n",
       "      <th>0</th>\n",
       "      <td>Low Risk</td>\n",
       "    </tr>\n",
       "    <tr>\n",
       "      <th>1</th>\n",
       "      <td>Species of Concern</td>\n",
       "    </tr>\n",
       "    <tr>\n",
       "      <th>2</th>\n",
       "      <td>Endangered</td>\n",
       "    </tr>\n",
       "    <tr>\n",
       "      <th>3</th>\n",
       "      <td>Threatened</td>\n",
       "    </tr>\n",
       "    <tr>\n",
       "      <th>4</th>\n",
       "      <td>In Recovery</td>\n",
       "    </tr>\n",
       "  </tbody>\n",
       "</table>\n",
       "</div>"
      ],
      "text/plain": [
       "  conservation_status\n",
       "0            Low Risk\n",
       "1  Species of Concern\n",
       "2          Endangered\n",
       "3          Threatened\n",
       "4         In Recovery"
      ]
     },
     "metadata": {},
     "output_type": "display_data"
    }
   ],
   "source": [
    "display(pd.DataFrame({'conservation_status':s_info_df.conservation_status.unique()}))"
   ]
  },
  {
   "cell_type": "markdown",
   "metadata": {},
   "source": [
    "**Summary:** Now I know some basic informations about those two dataframes. DataFrame `s_info_df` have 5824 rows and 4 columns and ob DataFrame `obs_df` have 23296 rows and 3 columns. There are 5541 different species divided by 7 categories: \n",
    "1. Mammal\n",
    "1. Bird\n",
    "1. Reptile\n",
    "1. Amphibian\n",
    "1. Fish\n",
    "1. Vascular Plant\n",
    "1. Nonvascular Plant"
   ]
  },
  {
   "cell_type": "markdown",
   "metadata": {},
   "source": [
    "There are 4 different National Park in our observations file:\n",
    "1. Great Smoky Mountains National Park\n",
    "1. Yosemite National Park\n",
    "1. Bryce National Park\n",
    "1. Yellowstone National Park"
   ]
  },
  {
   "cell_type": "markdown",
   "metadata": {},
   "source": [
    "The total number of observations in the parks are 3 314 739 which is quite a lot!"
   ]
  },
  {
   "cell_type": "markdown",
   "metadata": {},
   "source": [
    "#### Connecting the Data Frames into one DataFrame named join_df"
   ]
  },
  {
   "cell_type": "markdown",
   "metadata": {},
   "source": [
    "By joining `s_info_df` and `obs_df` together in a single dataframe `(join_df)` we can better investigate some connections. However it is necessary that the s_info_df has unique values for the key we will use for the merging process. In our case the index used for merge is the `scientific_name` column: one species can be only in one state (endangered, thretened, etc.) at a given time."
   ]
  },
  {
   "cell_type": "markdown",
   "metadata": {},
   "source": [
    "A quick check for duplicates is required."
   ]
  },
  {
   "cell_type": "code",
   "execution_count": 13,
   "metadata": {},
   "outputs": [
    {
     "name": "stdout",
     "output_type": "stream",
     "text": [
      "Duplicates: 557\n"
     ]
    }
   ],
   "source": [
    "s_dupli = s_info_df[s_info_df.scientific_name.duplicated(keep=False)]\n",
    "print(f'Duplicates: {len(s_dupli)}')"
   ]
  },
  {
   "cell_type": "markdown",
   "metadata": {},
   "source": [
    "It make sense to keep only the worst record among the duplicates. For example, if a species shows both _threatened_ and _endangered_ only _endangered_ is kept, as this should give us the worst scenario in terms of risk. We can drop duplicates from s_info_df and keep only the first item."
   ]
  },
  {
   "cell_type": "code",
   "execution_count": 14,
   "metadata": {},
   "outputs": [
    {
     "data": {
      "text/html": [
       "<style  type=\"text/css\" >\n",
       "</style><table id=\"T_64474442_96f7_11eb_9323_70665508755c\" ><caption>Canis Lupus duplicates before removal</caption><thead>    <tr>        <th class=\"blank level0\" ></th>        <th class=\"col_heading level0 col0\" >category</th>        <th class=\"col_heading level0 col1\" >scientific_name</th>        <th class=\"col_heading level0 col2\" >common_names</th>        <th class=\"col_heading level0 col3\" >conservation_status</th>    </tr></thead><tbody>\n",
       "                <tr>\n",
       "                        <th id=\"T_64474442_96f7_11eb_9323_70665508755clevel0_row0\" class=\"row_heading level0 row0\" >0</th>\n",
       "                        <td id=\"T_64474442_96f7_11eb_9323_70665508755crow0_col0\" class=\"data row0 col0\" >Mammal</td>\n",
       "                        <td id=\"T_64474442_96f7_11eb_9323_70665508755crow0_col1\" class=\"data row0 col1\" >Canis lupus</td>\n",
       "                        <td id=\"T_64474442_96f7_11eb_9323_70665508755crow0_col2\" class=\"data row0 col2\" >Gray Wolf</td>\n",
       "                        <td id=\"T_64474442_96f7_11eb_9323_70665508755crow0_col3\" class=\"data row0 col3\" >Endangered</td>\n",
       "            </tr>\n",
       "            <tr>\n",
       "                        <th id=\"T_64474442_96f7_11eb_9323_70665508755clevel0_row1\" class=\"row_heading level0 row1\" >1</th>\n",
       "                        <td id=\"T_64474442_96f7_11eb_9323_70665508755crow1_col0\" class=\"data row1 col0\" >Mammal</td>\n",
       "                        <td id=\"T_64474442_96f7_11eb_9323_70665508755crow1_col1\" class=\"data row1 col1\" >Canis lupus</td>\n",
       "                        <td id=\"T_64474442_96f7_11eb_9323_70665508755crow1_col2\" class=\"data row1 col2\" >Gray Wolf, Wolf</td>\n",
       "                        <td id=\"T_64474442_96f7_11eb_9323_70665508755crow1_col3\" class=\"data row1 col3\" >In Recovery</td>\n",
       "            </tr>\n",
       "            <tr>\n",
       "                        <th id=\"T_64474442_96f7_11eb_9323_70665508755clevel0_row2\" class=\"row_heading level0 row2\" >2</th>\n",
       "                        <td id=\"T_64474442_96f7_11eb_9323_70665508755crow2_col0\" class=\"data row2 col0\" >Mammal</td>\n",
       "                        <td id=\"T_64474442_96f7_11eb_9323_70665508755crow2_col1\" class=\"data row2 col1\" >Canis lupus</td>\n",
       "                        <td id=\"T_64474442_96f7_11eb_9323_70665508755crow2_col2\" class=\"data row2 col2\" >Gray Wolf, Wolf</td>\n",
       "                        <td id=\"T_64474442_96f7_11eb_9323_70665508755crow2_col3\" class=\"data row2 col3\" >Endangered</td>\n",
       "            </tr>\n",
       "    </tbody></table>"
      ],
      "text/plain": [
       "<pandas.io.formats.style.Styler at 0x22eee821100>"
      ]
     },
     "metadata": {},
     "output_type": "display_data"
    }
   ],
   "source": [
    "# Canis lupis example before removing duplicates\n",
    "canis_l_b = s_info_df[s_info_df.scientific_name.str.contains('Canis lupus')].reset_index(drop=True)\n",
    "canis_l_b = canis_l_b.style.set_caption('Canis Lupus duplicates before removal')\n",
    "display(canis_l_b)"
   ]
  },
  {
   "cell_type": "code",
   "execution_count": 15,
   "metadata": {},
   "outputs": [],
   "source": [
    "# Drop duplicates\n",
    "s_info_df.drop_duplicates(inplace=True, subset='scientific_name', keep='first')\n",
    "s_info_df.reset_index(drop=True, inplace=True)"
   ]
  },
  {
   "cell_type": "markdown",
   "metadata": {},
   "source": [
    "Then we update the relevant records with the worst status available among the duplicate."
   ]
  },
  {
   "cell_type": "code",
   "execution_count": 16,
   "metadata": {},
   "outputs": [
    {
     "data": {
      "text/html": [
       "<style  type=\"text/css\" >\n",
       "</style><table id=\"T_66612103_96f7_11eb_8f17_70665508755c\" ><caption>Canis Lupus duplicates after removal</caption><thead>    <tr>        <th class=\"blank level0\" ></th>        <th class=\"col_heading level0 col0\" >category</th>        <th class=\"col_heading level0 col1\" >scientific_name</th>        <th class=\"col_heading level0 col2\" >common_names</th>        <th class=\"col_heading level0 col3\" >conservation_status</th>    </tr></thead><tbody>\n",
       "                <tr>\n",
       "                        <th id=\"T_66612103_96f7_11eb_8f17_70665508755clevel0_row0\" class=\"row_heading level0 row0\" >0</th>\n",
       "                        <td id=\"T_66612103_96f7_11eb_8f17_70665508755crow0_col0\" class=\"data row0 col0\" >Mammal</td>\n",
       "                        <td id=\"T_66612103_96f7_11eb_8f17_70665508755crow0_col1\" class=\"data row0 col1\" >Canis lupus</td>\n",
       "                        <td id=\"T_66612103_96f7_11eb_8f17_70665508755crow0_col2\" class=\"data row0 col2\" >Gray Wolf</td>\n",
       "                        <td id=\"T_66612103_96f7_11eb_8f17_70665508755crow0_col3\" class=\"data row0 col3\" >Endangered</td>\n",
       "            </tr>\n",
       "    </tbody></table>"
      ],
      "text/plain": [
       "<pandas.io.formats.style.Styler at 0x22eee80aa60>"
      ]
     },
     "metadata": {},
     "output_type": "display_data"
    }
   ],
   "source": [
    "# Worst cases\n",
    "worst_cases = s_dupli.groupby('scientific_name').conservation_status.max()\n",
    "\n",
    "# Update the status for each duplicate that we kept\n",
    "for species, worst_risk in worst_cases.iteritems():\n",
    "    s_info_df.conservation_status[s_info_df.scientific_name == species] = worst_risk\n",
    "    \n",
    "\n",
    "# Canis lupis example after dropping duplicates\n",
    "canis_l_a = s_info_df[s_info_df.scientific_name.str.contains('Canis lupus')].reset_index(drop=True)\n",
    "canis_l_a = canis_l_a.style.set_caption('Canis Lupus duplicates after removal')\n",
    "display(canis_l_a)"
   ]
  },
  {
   "cell_type": "markdown",
   "metadata": {},
   "source": [
    "Finally we have the call to merge."
   ]
  },
  {
   "cell_type": "code",
   "execution_count": 17,
   "metadata": {},
   "outputs": [
    {
     "data": {
      "text/html": [
       "<style  type=\"text/css\" >\n",
       "</style><table id=\"T_66848e7e_96f7_11eb_a0b9_70665508755c\" ><caption>Join process result</caption><thead>    <tr>        <th class=\"blank level0\" ></th>        <th class=\"col_heading level0 col0\" >category</th>        <th class=\"col_heading level0 col1\" >scientific_name</th>        <th class=\"col_heading level0 col2\" >common_names</th>        <th class=\"col_heading level0 col3\" >conservation_status</th>        <th class=\"col_heading level0 col4\" >park_name</th>        <th class=\"col_heading level0 col5\" >observations</th>    </tr></thead><tbody>\n",
       "                <tr>\n",
       "                        <th id=\"T_66848e7e_96f7_11eb_a0b9_70665508755clevel0_row0\" class=\"row_heading level0 row0\" >0</th>\n",
       "                        <td id=\"T_66848e7e_96f7_11eb_a0b9_70665508755crow0_col0\" class=\"data row0 col0\" >Mammal</td>\n",
       "                        <td id=\"T_66848e7e_96f7_11eb_a0b9_70665508755crow0_col1\" class=\"data row0 col1\" >Clethrionomys gapperi gapperi</td>\n",
       "                        <td id=\"T_66848e7e_96f7_11eb_a0b9_70665508755crow0_col2\" class=\"data row0 col2\" >Gapper's Red-Backed Vole</td>\n",
       "                        <td id=\"T_66848e7e_96f7_11eb_a0b9_70665508755crow0_col3\" class=\"data row0 col3\" >Low Risk</td>\n",
       "                        <td id=\"T_66848e7e_96f7_11eb_a0b9_70665508755crow0_col4\" class=\"data row0 col4\" >Bryce </td>\n",
       "                        <td id=\"T_66848e7e_96f7_11eb_a0b9_70665508755crow0_col5\" class=\"data row0 col5\" >130</td>\n",
       "            </tr>\n",
       "            <tr>\n",
       "                        <th id=\"T_66848e7e_96f7_11eb_a0b9_70665508755clevel0_row1\" class=\"row_heading level0 row1\" >1</th>\n",
       "                        <td id=\"T_66848e7e_96f7_11eb_a0b9_70665508755crow1_col0\" class=\"data row1 col0\" >Mammal</td>\n",
       "                        <td id=\"T_66848e7e_96f7_11eb_a0b9_70665508755crow1_col1\" class=\"data row1 col1\" >Clethrionomys gapperi gapperi</td>\n",
       "                        <td id=\"T_66848e7e_96f7_11eb_a0b9_70665508755crow1_col2\" class=\"data row1 col2\" >Gapper's Red-Backed Vole</td>\n",
       "                        <td id=\"T_66848e7e_96f7_11eb_a0b9_70665508755crow1_col3\" class=\"data row1 col3\" >Low Risk</td>\n",
       "                        <td id=\"T_66848e7e_96f7_11eb_a0b9_70665508755crow1_col4\" class=\"data row1 col4\" >Yellowstone </td>\n",
       "                        <td id=\"T_66848e7e_96f7_11eb_a0b9_70665508755crow1_col5\" class=\"data row1 col5\" >270</td>\n",
       "            </tr>\n",
       "            <tr>\n",
       "                        <th id=\"T_66848e7e_96f7_11eb_a0b9_70665508755clevel0_row2\" class=\"row_heading level0 row2\" >2</th>\n",
       "                        <td id=\"T_66848e7e_96f7_11eb_a0b9_70665508755crow2_col0\" class=\"data row2 col0\" >Mammal</td>\n",
       "                        <td id=\"T_66848e7e_96f7_11eb_a0b9_70665508755crow2_col1\" class=\"data row2 col1\" >Clethrionomys gapperi gapperi</td>\n",
       "                        <td id=\"T_66848e7e_96f7_11eb_a0b9_70665508755crow2_col2\" class=\"data row2 col2\" >Gapper's Red-Backed Vole</td>\n",
       "                        <td id=\"T_66848e7e_96f7_11eb_a0b9_70665508755crow2_col3\" class=\"data row2 col3\" >Low Risk</td>\n",
       "                        <td id=\"T_66848e7e_96f7_11eb_a0b9_70665508755crow2_col4\" class=\"data row2 col4\" >Great Smoky Mountains </td>\n",
       "                        <td id=\"T_66848e7e_96f7_11eb_a0b9_70665508755crow2_col5\" class=\"data row2 col5\" >98</td>\n",
       "            </tr>\n",
       "            <tr>\n",
       "                        <th id=\"T_66848e7e_96f7_11eb_a0b9_70665508755clevel0_row3\" class=\"row_heading level0 row3\" >3</th>\n",
       "                        <td id=\"T_66848e7e_96f7_11eb_a0b9_70665508755crow3_col0\" class=\"data row3 col0\" >Mammal</td>\n",
       "                        <td id=\"T_66848e7e_96f7_11eb_a0b9_70665508755crow3_col1\" class=\"data row3 col1\" >Clethrionomys gapperi gapperi</td>\n",
       "                        <td id=\"T_66848e7e_96f7_11eb_a0b9_70665508755crow3_col2\" class=\"data row3 col2\" >Gapper's Red-Backed Vole</td>\n",
       "                        <td id=\"T_66848e7e_96f7_11eb_a0b9_70665508755crow3_col3\" class=\"data row3 col3\" >Low Risk</td>\n",
       "                        <td id=\"T_66848e7e_96f7_11eb_a0b9_70665508755crow3_col4\" class=\"data row3 col4\" >Yosemite </td>\n",
       "                        <td id=\"T_66848e7e_96f7_11eb_a0b9_70665508755crow3_col5\" class=\"data row3 col5\" >117</td>\n",
       "            </tr>\n",
       "            <tr>\n",
       "                        <th id=\"T_66848e7e_96f7_11eb_a0b9_70665508755clevel0_row4\" class=\"row_heading level0 row4\" >4</th>\n",
       "                        <td id=\"T_66848e7e_96f7_11eb_a0b9_70665508755crow4_col0\" class=\"data row4 col0\" >Mammal</td>\n",
       "                        <td id=\"T_66848e7e_96f7_11eb_a0b9_70665508755crow4_col1\" class=\"data row4 col1\" >Bos bison</td>\n",
       "                        <td id=\"T_66848e7e_96f7_11eb_a0b9_70665508755crow4_col2\" class=\"data row4 col2\" >American Bison, Bison</td>\n",
       "                        <td id=\"T_66848e7e_96f7_11eb_a0b9_70665508755crow4_col3\" class=\"data row4 col3\" >Low Risk</td>\n",
       "                        <td id=\"T_66848e7e_96f7_11eb_a0b9_70665508755crow4_col4\" class=\"data row4 col4\" >Yosemite </td>\n",
       "                        <td id=\"T_66848e7e_96f7_11eb_a0b9_70665508755crow4_col5\" class=\"data row4 col5\" >128</td>\n",
       "            </tr>\n",
       "    </tbody></table>"
      ],
      "text/plain": [
       "<pandas.io.formats.style.Styler at 0x22eeea9beb0>"
      ]
     },
     "metadata": {},
     "output_type": "display_data"
    }
   ],
   "source": [
    "# join dataframes\n",
    "join_df = s_info_df.merge(obs_df, on='scientific_name', how='outer')\n",
    "display(join_df.head().style\n",
    "       .set_caption('Join process result'))"
   ]
  },
  {
   "cell_type": "markdown",
   "metadata": {},
   "source": [
    "If the merge was done correctly we should end with a dataframe that is as long as the observation dataframe."
   ]
  },
  {
   "cell_type": "code",
   "execution_count": 18,
   "metadata": {},
   "outputs": [
    {
     "name": "stdout",
     "output_type": "stream",
     "text": [
      "Length of s_info_df: \t5541\n",
      "Length of obs_df: \t23296\n",
      "Length of join_df: \t23296\n"
     ]
    }
   ],
   "source": [
    "print(f'Length of s_info_df: \\t{len(s_info_df)}')\n",
    "print(f'Length of obs_df: \\t{len(obs_df)}')\n",
    "print(f'Length of join_df: \\t{len(join_df)}')"
   ]
  },
  {
   "cell_type": "markdown",
   "metadata": {},
   "source": [
    "## Analysis"
   ]
  },
  {
   "cell_type": "markdown",
   "metadata": {},
   "source": [
    "#### Categories - per number of observations"
   ]
  },
  {
   "cell_type": "markdown",
   "metadata": {},
   "source": [
    "A simple bar graph describing the number of observations per category will show which categories exist in our dataset. In addition we will get an idea of the most frequent ones."
   ]
  },
  {
   "cell_type": "code",
   "execution_count": 19,
   "metadata": {},
   "outputs": [
    {
     "data": {
      "text/html": [
       "<div>\n",
       "<style scoped>\n",
       "    .dataframe tbody tr th:only-of-type {\n",
       "        vertical-align: middle;\n",
       "    }\n",
       "\n",
       "    .dataframe tbody tr th {\n",
       "        vertical-align: top;\n",
       "    }\n",
       "\n",
       "    .dataframe thead th {\n",
       "        text-align: right;\n",
       "    }\n",
       "</style>\n",
       "<table border=\"1\" class=\"dataframe\">\n",
       "  <thead>\n",
       "    <tr style=\"text-align: right;\">\n",
       "      <th></th>\n",
       "      <th>category</th>\n",
       "      <th>observations</th>\n",
       "    </tr>\n",
       "  </thead>\n",
       "  <tbody>\n",
       "    <tr>\n",
       "      <th>0</th>\n",
       "      <td>Vascular Plant</td>\n",
       "      <td>2555090</td>\n",
       "    </tr>\n",
       "    <tr>\n",
       "      <th>1</th>\n",
       "      <td>Bird</td>\n",
       "      <td>292833</td>\n",
       "    </tr>\n",
       "    <tr>\n",
       "      <th>2</th>\n",
       "      <td>Nonvascular Plant</td>\n",
       "      <td>190653</td>\n",
       "    </tr>\n",
       "    <tr>\n",
       "      <th>3</th>\n",
       "      <td>Mammal</td>\n",
       "      <td>116696</td>\n",
       "    </tr>\n",
       "    <tr>\n",
       "      <th>4</th>\n",
       "      <td>Fish</td>\n",
       "      <td>70818</td>\n",
       "    </tr>\n",
       "    <tr>\n",
       "      <th>5</th>\n",
       "      <td>Reptile</td>\n",
       "      <td>44678</td>\n",
       "    </tr>\n",
       "    <tr>\n",
       "      <th>6</th>\n",
       "      <td>Amphibian</td>\n",
       "      <td>43971</td>\n",
       "    </tr>\n",
       "  </tbody>\n",
       "</table>\n",
       "</div>"
      ],
      "text/plain": [
       "            category  observations\n",
       "0     Vascular Plant       2555090\n",
       "1               Bird        292833\n",
       "2  Nonvascular Plant        190653\n",
       "3             Mammal        116696\n",
       "4               Fish         70818\n",
       "5            Reptile         44678\n",
       "6          Amphibian         43971"
      ]
     },
     "metadata": {},
     "output_type": "display_data"
    }
   ],
   "source": [
    "# first create dataframe contains category and observations\n",
    "obs_and_cat_df = join_df[['category', 'observations']].groupby('category').sum().sort_values('observations', ascending=False).reset_index()\n",
    "display(obs_and_cat_df)"
   ]
  },
  {
   "cell_type": "code",
   "execution_count": 20,
   "metadata": {},
   "outputs": [
    {
     "data": {
      "image/png": "[encoded data removed]",
      "text/plain": [
       "<Figure size 864x576 with 1 Axes>"
      ]
     },
     "metadata": {},
     "output_type": "display_data"
    }
   ],
   "source": [
    "sns.set_style('whitegrid')\n",
    "sns.set_palette('Set1')\n",
    "sns.set_context(context='notebook', font_scale=1.25)\n",
    "plt.figure(figsize=(12, 8))\n",
    "ax = sns.barplot(x=obs_and_cat_df['category'], y=obs_and_cat_df['observations'])\n",
    "plt.xlabel('Category')\n",
    "plt.ylabel('Number of observations')\n",
    "plt.title('Number of observations per category')\n",
    "# y axis as log \n",
    "plt.yscale('log')\n",
    "plt.grid(b=True, which='minor', linestyle='--', alpha=0.8)\n",
    "ax.set_yticklabels(('0', '0', '100K', '1M'))\n",
    "\n",
    "plt.show()"
   ]
  },
  {
   "cell_type": "markdown",
   "metadata": {},
   "source": [
    "**Summary:** As we can see the most observed category in our National Parks are Vascular Plant. The first place in number of observations for animals belonged  to Birds. "
   ]
  },
  {
   "cell_type": "markdown",
   "metadata": {},
   "source": [
    "####  Categories - per conservations_status"
   ]
  },
  {
   "cell_type": "code",
   "execution_count": 21,
   "metadata": {},
   "outputs": [
    {
     "data": {
      "text/html": [
       "<div>\n",
       "<style scoped>\n",
       "    .dataframe tbody tr th:only-of-type {\n",
       "        vertical-align: middle;\n",
       "    }\n",
       "\n",
       "    .dataframe tbody tr th {\n",
       "        vertical-align: top;\n",
       "    }\n",
       "\n",
       "    .dataframe thead th {\n",
       "        text-align: right;\n",
       "    }\n",
       "</style>\n",
       "<table border=\"1\" class=\"dataframe\">\n",
       "  <thead>\n",
       "    <tr style=\"text-align: right;\">\n",
       "      <th></th>\n",
       "      <th>category</th>\n",
       "      <th>conservation_status</th>\n",
       "      <th>spieces_counts</th>\n",
       "    </tr>\n",
       "  </thead>\n",
       "  <tbody>\n",
       "    <tr>\n",
       "      <th>0</th>\n",
       "      <td>Amphibian</td>\n",
       "      <td>Low Risk</td>\n",
       "      <td>292</td>\n",
       "    </tr>\n",
       "    <tr>\n",
       "      <th>1</th>\n",
       "      <td>Amphibian</td>\n",
       "      <td>Species of Concern</td>\n",
       "      <td>16</td>\n",
       "    </tr>\n",
       "    <tr>\n",
       "      <th>2</th>\n",
       "      <td>Amphibian</td>\n",
       "      <td>In Recovery</td>\n",
       "      <td>0</td>\n",
       "    </tr>\n",
       "    <tr>\n",
       "      <th>3</th>\n",
       "      <td>Amphibian</td>\n",
       "      <td>Threatened</td>\n",
       "      <td>8</td>\n",
       "    </tr>\n",
       "    <tr>\n",
       "      <th>4</th>\n",
       "      <td>Amphibian</td>\n",
       "      <td>Endangered</td>\n",
       "      <td>4</td>\n",
       "    </tr>\n",
       "    <tr>\n",
       "      <th>5</th>\n",
       "      <td>Bird</td>\n",
       "      <td>Low Risk</td>\n",
       "      <td>1768</td>\n",
       "    </tr>\n",
       "    <tr>\n",
       "      <th>6</th>\n",
       "      <td>Bird</td>\n",
       "      <td>Species of Concern</td>\n",
       "      <td>288</td>\n",
       "    </tr>\n",
       "    <tr>\n",
       "      <th>7</th>\n",
       "      <td>Bird</td>\n",
       "      <td>In Recovery</td>\n",
       "      <td>12</td>\n",
       "    </tr>\n",
       "    <tr>\n",
       "      <th>8</th>\n",
       "      <td>Bird</td>\n",
       "      <td>Threatened</td>\n",
       "      <td>0</td>\n",
       "    </tr>\n",
       "    <tr>\n",
       "      <th>9</th>\n",
       "      <td>Bird</td>\n",
       "      <td>Endangered</td>\n",
       "      <td>16</td>\n",
       "    </tr>\n",
       "    <tr>\n",
       "      <th>10</th>\n",
       "      <td>Fish</td>\n",
       "      <td>Low Risk</td>\n",
       "      <td>460</td>\n",
       "    </tr>\n",
       "    <tr>\n",
       "      <th>11</th>\n",
       "      <td>Fish</td>\n",
       "      <td>Species of Concern</td>\n",
       "      <td>16</td>\n",
       "    </tr>\n",
       "    <tr>\n",
       "      <th>12</th>\n",
       "      <td>Fish</td>\n",
       "      <td>In Recovery</td>\n",
       "      <td>0</td>\n",
       "    </tr>\n",
       "    <tr>\n",
       "      <th>13</th>\n",
       "      <td>Fish</td>\n",
       "      <td>Threatened</td>\n",
       "      <td>20</td>\n",
       "    </tr>\n",
       "    <tr>\n",
       "      <th>14</th>\n",
       "      <td>Fish</td>\n",
       "      <td>Endangered</td>\n",
       "      <td>12</td>\n",
       "    </tr>\n",
       "    <tr>\n",
       "      <th>15</th>\n",
       "      <td>Mammal</td>\n",
       "      <td>Low Risk</td>\n",
       "      <td>704</td>\n",
       "    </tr>\n",
       "    <tr>\n",
       "      <th>16</th>\n",
       "      <td>Mammal</td>\n",
       "      <td>Species of Concern</td>\n",
       "      <td>112</td>\n",
       "    </tr>\n",
       "    <tr>\n",
       "      <th>17</th>\n",
       "      <td>Mammal</td>\n",
       "      <td>In Recovery</td>\n",
       "      <td>0</td>\n",
       "    </tr>\n",
       "    <tr>\n",
       "      <th>18</th>\n",
       "      <td>Mammal</td>\n",
       "      <td>Threatened</td>\n",
       "      <td>8</td>\n",
       "    </tr>\n",
       "    <tr>\n",
       "      <th>19</th>\n",
       "      <td>Mammal</td>\n",
       "      <td>Endangered</td>\n",
       "      <td>32</td>\n",
       "    </tr>\n",
       "    <tr>\n",
       "      <th>20</th>\n",
       "      <td>Nonvascular Plant</td>\n",
       "      <td>Low Risk</td>\n",
       "      <td>1312</td>\n",
       "    </tr>\n",
       "    <tr>\n",
       "      <th>21</th>\n",
       "      <td>Nonvascular Plant</td>\n",
       "      <td>Species of Concern</td>\n",
       "      <td>20</td>\n",
       "    </tr>\n",
       "    <tr>\n",
       "      <th>22</th>\n",
       "      <td>Nonvascular Plant</td>\n",
       "      <td>In Recovery</td>\n",
       "      <td>0</td>\n",
       "    </tr>\n",
       "    <tr>\n",
       "      <th>23</th>\n",
       "      <td>Nonvascular Plant</td>\n",
       "      <td>Threatened</td>\n",
       "      <td>0</td>\n",
       "    </tr>\n",
       "    <tr>\n",
       "      <th>24</th>\n",
       "      <td>Nonvascular Plant</td>\n",
       "      <td>Endangered</td>\n",
       "      <td>0</td>\n",
       "    </tr>\n",
       "    <tr>\n",
       "      <th>25</th>\n",
       "      <td>Reptile</td>\n",
       "      <td>Low Risk</td>\n",
       "      <td>296</td>\n",
       "    </tr>\n",
       "    <tr>\n",
       "      <th>26</th>\n",
       "      <td>Reptile</td>\n",
       "      <td>Species of Concern</td>\n",
       "      <td>20</td>\n",
       "    </tr>\n",
       "    <tr>\n",
       "      <th>27</th>\n",
       "      <td>Reptile</td>\n",
       "      <td>In Recovery</td>\n",
       "      <td>0</td>\n",
       "    </tr>\n",
       "    <tr>\n",
       "      <th>28</th>\n",
       "      <td>Reptile</td>\n",
       "      <td>Threatened</td>\n",
       "      <td>0</td>\n",
       "    </tr>\n",
       "    <tr>\n",
       "      <th>29</th>\n",
       "      <td>Reptile</td>\n",
       "      <td>Endangered</td>\n",
       "      <td>0</td>\n",
       "    </tr>\n",
       "    <tr>\n",
       "      <th>30</th>\n",
       "      <td>Vascular Plant</td>\n",
       "      <td>Low Risk</td>\n",
       "      <td>17696</td>\n",
       "    </tr>\n",
       "    <tr>\n",
       "      <th>31</th>\n",
       "      <td>Vascular Plant</td>\n",
       "      <td>Species of Concern</td>\n",
       "      <td>172</td>\n",
       "    </tr>\n",
       "    <tr>\n",
       "      <th>32</th>\n",
       "      <td>Vascular Plant</td>\n",
       "      <td>In Recovery</td>\n",
       "      <td>0</td>\n",
       "    </tr>\n",
       "    <tr>\n",
       "      <th>33</th>\n",
       "      <td>Vascular Plant</td>\n",
       "      <td>Threatened</td>\n",
       "      <td>8</td>\n",
       "    </tr>\n",
       "    <tr>\n",
       "      <th>34</th>\n",
       "      <td>Vascular Plant</td>\n",
       "      <td>Endangered</td>\n",
       "      <td>4</td>\n",
       "    </tr>\n",
       "  </tbody>\n",
       "</table>\n",
       "</div>"
      ],
      "text/plain": [
       "             category conservation_status  spieces_counts\n",
       "0           Amphibian            Low Risk             292\n",
       "1           Amphibian  Species of Concern              16\n",
       "2           Amphibian         In Recovery               0\n",
       "3           Amphibian          Threatened               8\n",
       "4           Amphibian          Endangered               4\n",
       "5                Bird            Low Risk            1768\n",
       "6                Bird  Species of Concern             288\n",
       "7                Bird         In Recovery              12\n",
       "8                Bird          Threatened               0\n",
       "9                Bird          Endangered              16\n",
       "10               Fish            Low Risk             460\n",
       "11               Fish  Species of Concern              16\n",
       "12               Fish         In Recovery               0\n",
       "13               Fish          Threatened              20\n",
       "14               Fish          Endangered              12\n",
       "15             Mammal            Low Risk             704\n",
       "16             Mammal  Species of Concern             112\n",
       "17             Mammal         In Recovery               0\n",
       "18             Mammal          Threatened               8\n",
       "19             Mammal          Endangered              32\n",
       "20  Nonvascular Plant            Low Risk            1312\n",
       "21  Nonvascular Plant  Species of Concern              20\n",
       "22  Nonvascular Plant         In Recovery               0\n",
       "23  Nonvascular Plant          Threatened               0\n",
       "24  Nonvascular Plant          Endangered               0\n",
       "25            Reptile            Low Risk             296\n",
       "26            Reptile  Species of Concern              20\n",
       "27            Reptile         In Recovery               0\n",
       "28            Reptile          Threatened               0\n",
       "29            Reptile          Endangered               0\n",
       "30     Vascular Plant            Low Risk           17696\n",
       "31     Vascular Plant  Species of Concern             172\n",
       "32     Vascular Plant         In Recovery               0\n",
       "33     Vascular Plant          Threatened               8\n",
       "34     Vascular Plant          Endangered               4"
      ]
     },
     "execution_count": 21,
     "metadata": {},
     "output_type": "execute_result"
    }
   ],
   "source": [
    "# first create dataframe contains category and their conservation_status\n",
    "cat_and_con_df = join_df.groupby(['category', 'conservation_status']).scientific_name.count().reset_index()\n",
    "cat_and_con_df.rename(columns={'scientific_name':'spieces_counts'}, inplace=True)\n",
    "cat_and_con_df"
   ]
  },
  {
   "cell_type": "markdown",
   "metadata": {},
   "source": [
    "I want to show this data in a percentage on a bar plot so the following codes must be processed."
   ]
  },
  {
   "cell_type": "code",
   "execution_count": 22,
   "metadata": {},
   "outputs": [],
   "source": [
    "# count the unique values of 'category' column and put it to the list\n",
    "cat = cat_and_con_df['category'].unique().tolist()"
   ]
  },
  {
   "cell_type": "code",
   "execution_count": 23,
   "metadata": {},
   "outputs": [
    {
     "name": "stdout",
     "output_type": "stream",
     "text": [
      "Amphibian 100.0\n",
      "Bird 99.99999999999999\n",
      "Fish 100.0\n",
      "Mammal 100.0\n",
      "Nonvascular Plant 100.0\n",
      "Reptile 100.0\n",
      "Vascular Plant 100.0\n"
     ]
    }
   ],
   "source": [
    "# loop through each  category and calculate percentage\n",
    "spieces_counts = [] \n",
    "for aa in cat:\n",
    "    x = cat_and_con_df[cat_and_con_df.category == aa].spieces_counts.sum()\n",
    "    y = (cat_and_con_df[cat_and_con_df.category == aa].spieces_counts * 100) / x\n",
    "    spieces_counts.append(y)\n",
    "    print( aa, y.sum()) # print result to check if correct calculation\n",
    "    \n",
    "spieces_counts = np.concatenate(spieces_counts)    "
   ]
  },
  {
   "cell_type": "code",
   "execution_count": 24,
   "metadata": {},
   "outputs": [
    {
     "data": {
      "text/html": [
       "<div>\n",
       "<style scoped>\n",
       "    .dataframe tbody tr th:only-of-type {\n",
       "        vertical-align: middle;\n",
       "    }\n",
       "\n",
       "    .dataframe tbody tr th {\n",
       "        vertical-align: top;\n",
       "    }\n",
       "\n",
       "    .dataframe thead th {\n",
       "        text-align: right;\n",
       "    }\n",
       "</style>\n",
       "<table border=\"1\" class=\"dataframe\">\n",
       "  <thead>\n",
       "    <tr style=\"text-align: right;\">\n",
       "      <th></th>\n",
       "      <th>category</th>\n",
       "      <th>conservation_status</th>\n",
       "      <th>spieces_counts</th>\n",
       "      <th>percentage</th>\n",
       "    </tr>\n",
       "  </thead>\n",
       "  <tbody>\n",
       "    <tr>\n",
       "      <th>0</th>\n",
       "      <td>Amphibian</td>\n",
       "      <td>Low Risk</td>\n",
       "      <td>292</td>\n",
       "      <td>91.250000</td>\n",
       "    </tr>\n",
       "    <tr>\n",
       "      <th>1</th>\n",
       "      <td>Amphibian</td>\n",
       "      <td>Species of Concern</td>\n",
       "      <td>16</td>\n",
       "      <td>5.000000</td>\n",
       "    </tr>\n",
       "    <tr>\n",
       "      <th>2</th>\n",
       "      <td>Amphibian</td>\n",
       "      <td>In Recovery</td>\n",
       "      <td>0</td>\n",
       "      <td>0.000000</td>\n",
       "    </tr>\n",
       "    <tr>\n",
       "      <th>3</th>\n",
       "      <td>Amphibian</td>\n",
       "      <td>Threatened</td>\n",
       "      <td>8</td>\n",
       "      <td>2.500000</td>\n",
       "    </tr>\n",
       "    <tr>\n",
       "      <th>4</th>\n",
       "      <td>Amphibian</td>\n",
       "      <td>Endangered</td>\n",
       "      <td>4</td>\n",
       "      <td>1.250000</td>\n",
       "    </tr>\n",
       "    <tr>\n",
       "      <th>5</th>\n",
       "      <td>Bird</td>\n",
       "      <td>Low Risk</td>\n",
       "      <td>1768</td>\n",
       "      <td>84.836852</td>\n",
       "    </tr>\n",
       "    <tr>\n",
       "      <th>6</th>\n",
       "      <td>Bird</td>\n",
       "      <td>Species of Concern</td>\n",
       "      <td>288</td>\n",
       "      <td>13.819578</td>\n",
       "    </tr>\n",
       "    <tr>\n",
       "      <th>7</th>\n",
       "      <td>Bird</td>\n",
       "      <td>In Recovery</td>\n",
       "      <td>12</td>\n",
       "      <td>0.575816</td>\n",
       "    </tr>\n",
       "    <tr>\n",
       "      <th>8</th>\n",
       "      <td>Bird</td>\n",
       "      <td>Threatened</td>\n",
       "      <td>0</td>\n",
       "      <td>0.000000</td>\n",
       "    </tr>\n",
       "    <tr>\n",
       "      <th>9</th>\n",
       "      <td>Bird</td>\n",
       "      <td>Endangered</td>\n",
       "      <td>16</td>\n",
       "      <td>0.767754</td>\n",
       "    </tr>\n",
       "    <tr>\n",
       "      <th>10</th>\n",
       "      <td>Fish</td>\n",
       "      <td>Low Risk</td>\n",
       "      <td>460</td>\n",
       "      <td>90.551181</td>\n",
       "    </tr>\n",
       "    <tr>\n",
       "      <th>11</th>\n",
       "      <td>Fish</td>\n",
       "      <td>Species of Concern</td>\n",
       "      <td>16</td>\n",
       "      <td>3.149606</td>\n",
       "    </tr>\n",
       "    <tr>\n",
       "      <th>12</th>\n",
       "      <td>Fish</td>\n",
       "      <td>In Recovery</td>\n",
       "      <td>0</td>\n",
       "      <td>0.000000</td>\n",
       "    </tr>\n",
       "    <tr>\n",
       "      <th>13</th>\n",
       "      <td>Fish</td>\n",
       "      <td>Threatened</td>\n",
       "      <td>20</td>\n",
       "      <td>3.937008</td>\n",
       "    </tr>\n",
       "    <tr>\n",
       "      <th>14</th>\n",
       "      <td>Fish</td>\n",
       "      <td>Endangered</td>\n",
       "      <td>12</td>\n",
       "      <td>2.362205</td>\n",
       "    </tr>\n",
       "    <tr>\n",
       "      <th>15</th>\n",
       "      <td>Mammal</td>\n",
       "      <td>Low Risk</td>\n",
       "      <td>704</td>\n",
       "      <td>82.242991</td>\n",
       "    </tr>\n",
       "    <tr>\n",
       "      <th>16</th>\n",
       "      <td>Mammal</td>\n",
       "      <td>Species of Concern</td>\n",
       "      <td>112</td>\n",
       "      <td>13.084112</td>\n",
       "    </tr>\n",
       "    <tr>\n",
       "      <th>17</th>\n",
       "      <td>Mammal</td>\n",
       "      <td>In Recovery</td>\n",
       "      <td>0</td>\n",
       "      <td>0.000000</td>\n",
       "    </tr>\n",
       "    <tr>\n",
       "      <th>18</th>\n",
       "      <td>Mammal</td>\n",
       "      <td>Threatened</td>\n",
       "      <td>8</td>\n",
       "      <td>0.934579</td>\n",
       "    </tr>\n",
       "    <tr>\n",
       "      <th>19</th>\n",
       "      <td>Mammal</td>\n",
       "      <td>Endangered</td>\n",
       "      <td>32</td>\n",
       "      <td>3.738318</td>\n",
       "    </tr>\n",
       "    <tr>\n",
       "      <th>20</th>\n",
       "      <td>Nonvascular Plant</td>\n",
       "      <td>Low Risk</td>\n",
       "      <td>1312</td>\n",
       "      <td>98.498498</td>\n",
       "    </tr>\n",
       "    <tr>\n",
       "      <th>21</th>\n",
       "      <td>Nonvascular Plant</td>\n",
       "      <td>Species of Concern</td>\n",
       "      <td>20</td>\n",
       "      <td>1.501502</td>\n",
       "    </tr>\n",
       "    <tr>\n",
       "      <th>22</th>\n",
       "      <td>Nonvascular Plant</td>\n",
       "      <td>In Recovery</td>\n",
       "      <td>0</td>\n",
       "      <td>0.000000</td>\n",
       "    </tr>\n",
       "    <tr>\n",
       "      <th>23</th>\n",
       "      <td>Nonvascular Plant</td>\n",
       "      <td>Threatened</td>\n",
       "      <td>0</td>\n",
       "      <td>0.000000</td>\n",
       "    </tr>\n",
       "    <tr>\n",
       "      <th>24</th>\n",
       "      <td>Nonvascular Plant</td>\n",
       "      <td>Endangered</td>\n",
       "      <td>0</td>\n",
       "      <td>0.000000</td>\n",
       "    </tr>\n",
       "    <tr>\n",
       "      <th>25</th>\n",
       "      <td>Reptile</td>\n",
       "      <td>Low Risk</td>\n",
       "      <td>296</td>\n",
       "      <td>93.670886</td>\n",
       "    </tr>\n",
       "    <tr>\n",
       "      <th>26</th>\n",
       "      <td>Reptile</td>\n",
       "      <td>Species of Concern</td>\n",
       "      <td>20</td>\n",
       "      <td>6.329114</td>\n",
       "    </tr>\n",
       "    <tr>\n",
       "      <th>27</th>\n",
       "      <td>Reptile</td>\n",
       "      <td>In Recovery</td>\n",
       "      <td>0</td>\n",
       "      <td>0.000000</td>\n",
       "    </tr>\n",
       "    <tr>\n",
       "      <th>28</th>\n",
       "      <td>Reptile</td>\n",
       "      <td>Threatened</td>\n",
       "      <td>0</td>\n",
       "      <td>0.000000</td>\n",
       "    </tr>\n",
       "    <tr>\n",
       "      <th>29</th>\n",
       "      <td>Reptile</td>\n",
       "      <td>Endangered</td>\n",
       "      <td>0</td>\n",
       "      <td>0.000000</td>\n",
       "    </tr>\n",
       "    <tr>\n",
       "      <th>30</th>\n",
       "      <td>Vascular Plant</td>\n",
       "      <td>Low Risk</td>\n",
       "      <td>17696</td>\n",
       "      <td>98.970917</td>\n",
       "    </tr>\n",
       "    <tr>\n",
       "      <th>31</th>\n",
       "      <td>Vascular Plant</td>\n",
       "      <td>Species of Concern</td>\n",
       "      <td>172</td>\n",
       "      <td>0.961969</td>\n",
       "    </tr>\n",
       "    <tr>\n",
       "      <th>32</th>\n",
       "      <td>Vascular Plant</td>\n",
       "      <td>In Recovery</td>\n",
       "      <td>0</td>\n",
       "      <td>0.000000</td>\n",
       "    </tr>\n",
       "    <tr>\n",
       "      <th>33</th>\n",
       "      <td>Vascular Plant</td>\n",
       "      <td>Threatened</td>\n",
       "      <td>8</td>\n",
       "      <td>0.044743</td>\n",
       "    </tr>\n",
       "    <tr>\n",
       "      <th>34</th>\n",
       "      <td>Vascular Plant</td>\n",
       "      <td>Endangered</td>\n",
       "      <td>4</td>\n",
       "      <td>0.022371</td>\n",
       "    </tr>\n",
       "  </tbody>\n",
       "</table>\n",
       "</div>"
      ],
      "text/plain": [
       "             category conservation_status  spieces_counts  percentage\n",
       "0           Amphibian            Low Risk             292   91.250000\n",
       "1           Amphibian  Species of Concern              16    5.000000\n",
       "2           Amphibian         In Recovery               0    0.000000\n",
       "3           Amphibian          Threatened               8    2.500000\n",
       "4           Amphibian          Endangered               4    1.250000\n",
       "5                Bird            Low Risk            1768   84.836852\n",
       "6                Bird  Species of Concern             288   13.819578\n",
       "7                Bird         In Recovery              12    0.575816\n",
       "8                Bird          Threatened               0    0.000000\n",
       "9                Bird          Endangered              16    0.767754\n",
       "10               Fish            Low Risk             460   90.551181\n",
       "11               Fish  Species of Concern              16    3.149606\n",
       "12               Fish         In Recovery               0    0.000000\n",
       "13               Fish          Threatened              20    3.937008\n",
       "14               Fish          Endangered              12    2.362205\n",
       "15             Mammal            Low Risk             704   82.242991\n",
       "16             Mammal  Species of Concern             112   13.084112\n",
       "17             Mammal         In Recovery               0    0.000000\n",
       "18             Mammal          Threatened               8    0.934579\n",
       "19             Mammal          Endangered              32    3.738318\n",
       "20  Nonvascular Plant            Low Risk            1312   98.498498\n",
       "21  Nonvascular Plant  Species of Concern              20    1.501502\n",
       "22  Nonvascular Plant         In Recovery               0    0.000000\n",
       "23  Nonvascular Plant          Threatened               0    0.000000\n",
       "24  Nonvascular Plant          Endangered               0    0.000000\n",
       "25            Reptile            Low Risk             296   93.670886\n",
       "26            Reptile  Species of Concern              20    6.329114\n",
       "27            Reptile         In Recovery               0    0.000000\n",
       "28            Reptile          Threatened               0    0.000000\n",
       "29            Reptile          Endangered               0    0.000000\n",
       "30     Vascular Plant            Low Risk           17696   98.970917\n",
       "31     Vascular Plant  Species of Concern             172    0.961969\n",
       "32     Vascular Plant         In Recovery               0    0.000000\n",
       "33     Vascular Plant          Threatened               8    0.044743\n",
       "34     Vascular Plant          Endangered               4    0.022371"
      ]
     },
     "metadata": {},
     "output_type": "display_data"
    }
   ],
   "source": [
    "# add column percentage to DataFrame \n",
    "cat_and_con_df['percentage'] = spieces_counts\n",
    "display(cat_and_con_df)"
   ]
  },
  {
   "cell_type": "code",
   "execution_count": 25,
   "metadata": {},
   "outputs": [
    {
     "data": {
      "image/png": "[encoded data removed]",
      "text/plain": [
       "<Figure size 864x576 with 1 Axes>"
      ]
     },
     "metadata": {},
     "output_type": "display_data"
    }
   ],
   "source": [
    "# create bar plot\n",
    "sns.set_palette('Accent')\n",
    "plt.figure(figsize=(12, 8))\n",
    "ax = sns.barplot(x=cat_and_con_df['category'], y=cat_and_con_df['percentage'], hue=cat_and_con_df['conservation_status'])\n",
    "plt.title('Percentage distribution of each species category and their conservation_status')\n",
    "plt.yscale('log')\n",
    "ax.set_yticklabels(('0', '0', '0.1%', '1%', '10%', '100%'))\n",
    "plt.xlabel('Category of Species')\n",
    "plt.ylabel('Percentage')\n",
    "plt.legend(loc=6, bbox_to_anchor=(1, 0.5), ncol=1)\n",
    "plt.show()"
   ]
  },
  {
   "cell_type": "markdown",
   "metadata": {},
   "source": [
    "**Summary:** I used logarithmic scale on y axis to show better the results. As we can see `the most endangered species are:` Mammal, Fish, Amphibian and Bird. It is really comforting that in each category the massive amount - more than 90% are in Low Risk. "
   ]
  },
  {
   "cell_type": "markdown",
   "metadata": {},
   "source": [
    "#### Parks"
   ]
  },
  {
   "cell_type": "markdown",
   "metadata": {},
   "source": [
    "What is a number of observations in each National Parks?"
   ]
  },
  {
   "cell_type": "code",
   "execution_count": 26,
   "metadata": {},
   "outputs": [
    {
     "data": {
      "text/html": [
       "<div>\n",
       "<style scoped>\n",
       "    .dataframe tbody tr th:only-of-type {\n",
       "        vertical-align: middle;\n",
       "    }\n",
       "\n",
       "    .dataframe tbody tr th {\n",
       "        vertical-align: top;\n",
       "    }\n",
       "\n",
       "    .dataframe thead th {\n",
       "        text-align: right;\n",
       "    }\n",
       "</style>\n",
       "<table border=\"1\" class=\"dataframe\">\n",
       "  <thead>\n",
       "    <tr style=\"text-align: right;\">\n",
       "      <th></th>\n",
       "      <th>park_name</th>\n",
       "      <th>observations</th>\n",
       "    </tr>\n",
       "  </thead>\n",
       "  <tbody>\n",
       "    <tr>\n",
       "      <th>0</th>\n",
       "      <td>Bryce</td>\n",
       "      <td>576025</td>\n",
       "    </tr>\n",
       "    <tr>\n",
       "      <th>1</th>\n",
       "      <td>Great Smoky Mountains</td>\n",
       "      <td>431820</td>\n",
       "    </tr>\n",
       "    <tr>\n",
       "      <th>2</th>\n",
       "      <td>Yellowstone</td>\n",
       "      <td>1443562</td>\n",
       "    </tr>\n",
       "    <tr>\n",
       "      <th>3</th>\n",
       "      <td>Yosemite</td>\n",
       "      <td>863332</td>\n",
       "    </tr>\n",
       "  </tbody>\n",
       "</table>\n",
       "</div>"
      ],
      "text/plain": [
       "                park_name  observations\n",
       "0                  Bryce         576025\n",
       "1  Great Smoky Mountains         431820\n",
       "2            Yellowstone        1443562\n",
       "3               Yosemite         863332"
      ]
     },
     "metadata": {},
     "output_type": "display_data"
    }
   ],
   "source": [
    "# first create dataframe contains info abount observations in each park\n",
    "ob_by_park = join_df.groupby('park_name').observations.sum().reset_index()\n",
    "display(ob_by_park)"
   ]
  },
  {
   "cell_type": "code",
   "execution_count": 27,
   "metadata": {},
   "outputs": [
    {
     "data": {
      "image/png": "[encoded data removed]",
      "text/plain": [
       "<Figure size 864x576 with 1 Axes>"
      ]
     },
     "metadata": {},
     "output_type": "display_data"
    }
   ],
   "source": [
    "# bar plot for observations in each National Parks\n",
    "sns.set_palette('Paired')\n",
    "plt.figure(figsize=(12,8))\n",
    "p = sns.barplot(data=ob_by_park, x='park_name', y='observations', estimator=sum)\n",
    "plt.ylabel('Number of observations')\n",
    "plt.xlabel('National Parks')\n",
    "plt.title('Total number of observation in each National Parks')\n",
    "plt.xticks(rotation=15)\n",
    "p.set_yticklabels(['0', '200K', '400K', '600K', '800K', '1.0M', '1.2M', '1.4M'])\n",
    "plt.show()"
   ]
  },
  {
   "cell_type": "markdown",
   "metadata": {},
   "source": [
    "**Summary:** As we can see the Yellowstone has the largest number of observation - more than 1.4M.  Yosemite is on second place with 800K observations. Then is Bryce with almost 600K observations and in the end is Great Smoky Mountains with result a little more than 400K observations. "
   ]
  },
  {
   "cell_type": "markdown",
   "metadata": {},
   "source": [
    "How looks  the percentage distribution of each species category in National Parks?"
   ]
  },
  {
   "cell_type": "code",
   "execution_count": 28,
   "metadata": {},
   "outputs": [
    {
     "data": {
      "text/html": [
       "<style  type=\"text/css\" >\n",
       "</style><table id=\"T_77658afb_96f7_11eb_a4fd_70665508755c\" ><caption>Observation percentages</caption><thead>    <tr>        <th class=\"index_name level0\" >Category</th>        <th class=\"col_heading level0 col0\" >Amphibian</th>        <th class=\"col_heading level0 col1\" >Bird</th>        <th class=\"col_heading level0 col2\" >Fish</th>        <th class=\"col_heading level0 col3\" >Mammal</th>        <th class=\"col_heading level0 col4\" >Nonvascular Plant</th>        <th class=\"col_heading level0 col5\" >Reptile</th>        <th class=\"col_heading level0 col6\" >Vascular Plant</th>    </tr>    <tr>        <th class=\"index_name level0\" >Park name</th>        <th class=\"blank\" ></th>        <th class=\"blank\" ></th>        <th class=\"blank\" ></th>        <th class=\"blank\" ></th>        <th class=\"blank\" ></th>        <th class=\"blank\" ></th>        <th class=\"blank\" ></th>    </tr></thead><tbody>\n",
       "                <tr>\n",
       "                        <th id=\"T_77658afb_96f7_11eb_a4fd_70665508755clevel0_row0\" class=\"row_heading level0 row0\" >Bryce </th>\n",
       "                        <td id=\"T_77658afb_96f7_11eb_a4fd_70665508755crow0_col0\" class=\"data row0 col0\" >1.3%</td>\n",
       "                        <td id=\"T_77658afb_96f7_11eb_a4fd_70665508755crow0_col1\" class=\"data row0 col1\" >9.0%</td>\n",
       "                        <td id=\"T_77658afb_96f7_11eb_a4fd_70665508755crow0_col2\" class=\"data row0 col2\" >2.2%</td>\n",
       "                        <td id=\"T_77658afb_96f7_11eb_a4fd_70665508755crow0_col3\" class=\"data row0 col3\" >3.6%</td>\n",
       "                        <td id=\"T_77658afb_96f7_11eb_a4fd_70665508755crow0_col4\" class=\"data row0 col4\" >5.7%</td>\n",
       "                        <td id=\"T_77658afb_96f7_11eb_a4fd_70665508755crow0_col5\" class=\"data row0 col5\" >1.4%</td>\n",
       "                        <td id=\"T_77658afb_96f7_11eb_a4fd_70665508755crow0_col6\" class=\"data row0 col6\" >76.9%</td>\n",
       "            </tr>\n",
       "            <tr>\n",
       "                        <th id=\"T_77658afb_96f7_11eb_a4fd_70665508755clevel0_row1\" class=\"row_heading level0 row1\" >Great Smoky Mountains </th>\n",
       "                        <td id=\"T_77658afb_96f7_11eb_a4fd_70665508755crow1_col0\" class=\"data row1 col0\" >1.3%</td>\n",
       "                        <td id=\"T_77658afb_96f7_11eb_a4fd_70665508755crow1_col1\" class=\"data row1 col1\" >8.7%</td>\n",
       "                        <td id=\"T_77658afb_96f7_11eb_a4fd_70665508755crow1_col2\" class=\"data row1 col2\" >2.1%</td>\n",
       "                        <td id=\"T_77658afb_96f7_11eb_a4fd_70665508755crow1_col3\" class=\"data row1 col3\" >3.5%</td>\n",
       "                        <td id=\"T_77658afb_96f7_11eb_a4fd_70665508755crow1_col4\" class=\"data row1 col4\" >5.8%</td>\n",
       "                        <td id=\"T_77658afb_96f7_11eb_a4fd_70665508755crow1_col5\" class=\"data row1 col5\" >1.3%</td>\n",
       "                        <td id=\"T_77658afb_96f7_11eb_a4fd_70665508755crow1_col6\" class=\"data row1 col6\" >77.3%</td>\n",
       "            </tr>\n",
       "            <tr>\n",
       "                        <th id=\"T_77658afb_96f7_11eb_a4fd_70665508755clevel0_row2\" class=\"row_heading level0 row2\" >Yellowstone </th>\n",
       "                        <td id=\"T_77658afb_96f7_11eb_a4fd_70665508755crow2_col0\" class=\"data row2 col0\" >1.3%</td>\n",
       "                        <td id=\"T_77658afb_96f7_11eb_a4fd_70665508755crow2_col1\" class=\"data row2 col1\" >8.8%</td>\n",
       "                        <td id=\"T_77658afb_96f7_11eb_a4fd_70665508755crow2_col2\" class=\"data row2 col2\" >2.1%</td>\n",
       "                        <td id=\"T_77658afb_96f7_11eb_a4fd_70665508755crow2_col3\" class=\"data row2 col3\" >3.5%</td>\n",
       "                        <td id=\"T_77658afb_96f7_11eb_a4fd_70665508755crow2_col4\" class=\"data row2 col4\" >5.8%</td>\n",
       "                        <td id=\"T_77658afb_96f7_11eb_a4fd_70665508755crow2_col5\" class=\"data row2 col5\" >1.4%</td>\n",
       "                        <td id=\"T_77658afb_96f7_11eb_a4fd_70665508755crow2_col6\" class=\"data row2 col6\" >77.1%</td>\n",
       "            </tr>\n",
       "            <tr>\n",
       "                        <th id=\"T_77658afb_96f7_11eb_a4fd_70665508755clevel0_row3\" class=\"row_heading level0 row3\" >Yosemite </th>\n",
       "                        <td id=\"T_77658afb_96f7_11eb_a4fd_70665508755crow3_col0\" class=\"data row3 col0\" >1.3%</td>\n",
       "                        <td id=\"T_77658afb_96f7_11eb_a4fd_70665508755crow3_col1\" class=\"data row3 col1\" >8.8%</td>\n",
       "                        <td id=\"T_77658afb_96f7_11eb_a4fd_70665508755crow3_col2\" class=\"data row3 col2\" >2.2%</td>\n",
       "                        <td id=\"T_77658afb_96f7_11eb_a4fd_70665508755crow3_col3\" class=\"data row3 col3\" >3.5%</td>\n",
       "                        <td id=\"T_77658afb_96f7_11eb_a4fd_70665508755crow3_col4\" class=\"data row3 col4\" >5.8%</td>\n",
       "                        <td id=\"T_77658afb_96f7_11eb_a4fd_70665508755crow3_col5\" class=\"data row3 col5\" >1.3%</td>\n",
       "                        <td id=\"T_77658afb_96f7_11eb_a4fd_70665508755crow3_col6\" class=\"data row3 col6\" >77.1%</td>\n",
       "            </tr>\n",
       "    </tbody></table>"
      ],
      "text/plain": [
       "<pandas.io.formats.style.Styler at 0x22eee84fd90>"
      ]
     },
     "metadata": {},
     "output_type": "display_data"
    }
   ],
   "source": [
    "# Create grouped frame with parks and observations\n",
    "obs_and_park_df = join_df.pivot_table(index='park_name', columns='category', values='observations', aggfunc=sum)\n",
    "# Convert value to percentage\n",
    "obs_and_park_df = obs_and_park_df.apply(lambda x: x/x.sum()*100,  axis=1)\n",
    "# Adjust row/column description\n",
    "obs_and_park_df.rename_axis('Park name', inplace=True)\n",
    "obs_and_park_df.rename_axis('Category', axis='columns', inplace=True)\n",
    "\n",
    "display(obs_and_park_df.style\n",
    "        .format(\"{:.1f}%\")\n",
    "        .set_caption('Observation percentages'))"
   ]
  },
  {
   "cell_type": "code",
   "execution_count": 29,
   "metadata": {
    "scrolled": true
   },
   "outputs": [
    {
     "data": {
      "image/png": "[encoded data removed]",
      "text/plain": [
       "<Figure size 864x576 with 1 Axes>"
      ]
     },
     "metadata": {},
     "output_type": "display_data"
    }
   ],
   "source": [
    "sns.set_palette('Set1')\n",
    "a = obs_and_park_df.plot(kind='bar', stacked=False, figsize=[12, 8])\n",
    "plt.xlabel('National Parks')\n",
    "plt.ylabel('Percentage of observations')\n",
    "plt.title('Percentage distribution in each National Park per species category')\n",
    "plt.legend(loc=6, bbox_to_anchor=(1, 0.5), ncol=1)\n",
    "plt.xticks(rotation=0)\n",
    "a.set_yticklabels(('0%', '10%', '20%', '30%', '40%', '50%', '60%', '70%', '80%'))\n",
    "plt.show()"
   ]
  },
  {
   "cell_type": "markdown",
   "metadata": {},
   "source": [
    "**Summary:** The table above and bar plot shows the percentage distribution of species category in each National Park. As we can noticed the numbers are almost the same for each park and it suggest that the data provided at the beginning are mostly fictioned.  "
   ]
  },
  {
   "cell_type": "markdown",
   "metadata": {},
   "source": [
    "#### Frequent observations of endangered animals"
   ]
  },
  {
   "cell_type": "markdown",
   "metadata": {},
   "source": [
    "We want to find frequently spotted endangered animals: we can look at the frequence of words in common_names column. Since we are interested in species at risk it is better to create two dedicated dataframes, `endangered_species` and `endangered_obs`, which exclude the 'Low Risk' label from species informations and observation statuses respectively. Repeated names belong to frequently observed animals."
   ]
  },
  {
   "cell_type": "code",
   "execution_count": 30,
   "metadata": {},
   "outputs": [
    {
     "data": {
      "text/html": [
       "<style  type=\"text/css\" >\n",
       "</style><table id=\"T_7a99f3cd_96f7_11eb_828b_70665508755c\" ><caption>Frequent words - top 20</caption><thead>    <tr>        <th class=\"blank level0\" ></th>        <th class=\"col_heading level0 col0\" >word_count</th>    </tr></thead><tbody>\n",
       "                <tr>\n",
       "                        <th id=\"T_7a99f3cd_96f7_11eb_828b_70665508755clevel0_row0\" class=\"row_heading level0 row0\" >Myotis</th>\n",
       "                        <td id=\"T_7a99f3cd_96f7_11eb_828b_70665508755crow0_col0\" class=\"data row0 col0\" >96</td>\n",
       "            </tr>\n",
       "            <tr>\n",
       "                        <th id=\"T_7a99f3cd_96f7_11eb_828b_70665508755clevel0_row1\" class=\"row_heading level0 row1\" >Bat</th>\n",
       "                        <td id=\"T_7a99f3cd_96f7_11eb_828b_70665508755crow1_col0\" class=\"data row1 col0\" >60</td>\n",
       "            </tr>\n",
       "            <tr>\n",
       "                        <th id=\"T_7a99f3cd_96f7_11eb_828b_70665508755clevel0_row2\" class=\"row_heading level0 row2\" >Brown</th>\n",
       "                        <td id=\"T_7a99f3cd_96f7_11eb_828b_70665508755crow2_col0\" class=\"data row2 col0\" >40</td>\n",
       "            </tr>\n",
       "            <tr>\n",
       "                        <th id=\"T_7a99f3cd_96f7_11eb_828b_70665508755clevel0_row3\" class=\"row_heading level0 row3\" >American</th>\n",
       "                        <td id=\"T_7a99f3cd_96f7_11eb_828b_70665508755crow3_col0\" class=\"data row3 col0\" >28</td>\n",
       "            </tr>\n",
       "            <tr>\n",
       "                        <th id=\"T_7a99f3cd_96f7_11eb_828b_70665508755clevel0_row4\" class=\"row_heading level0 row4\" >California</th>\n",
       "                        <td id=\"T_7a99f3cd_96f7_11eb_828b_70665508755crow4_col0\" class=\"data row4 col0\" >28</td>\n",
       "            </tr>\n",
       "            <tr>\n",
       "                        <th id=\"T_7a99f3cd_96f7_11eb_828b_70665508755clevel0_row5\" class=\"row_heading level0 row5\" >Northern</th>\n",
       "                        <td id=\"T_7a99f3cd_96f7_11eb_828b_70665508755crow5_col0\" class=\"data row5 col0\" >28</td>\n",
       "            </tr>\n",
       "            <tr>\n",
       "                        <th id=\"T_7a99f3cd_96f7_11eb_828b_70665508755clevel0_row6\" class=\"row_heading level0 row6\" >Mountain</th>\n",
       "                        <td id=\"T_7a99f3cd_96f7_11eb_828b_70665508755crow6_col0\" class=\"data row6 col0\" >28</td>\n",
       "            </tr>\n",
       "            <tr>\n",
       "                        <th id=\"T_7a99f3cd_96f7_11eb_828b_70665508755clevel0_row7\" class=\"row_heading level0 row7\" >Little</th>\n",
       "                        <td id=\"T_7a99f3cd_96f7_11eb_828b_70665508755crow7_col0\" class=\"data row7 col0\" >24</td>\n",
       "            </tr>\n",
       "            <tr>\n",
       "                        <th id=\"T_7a99f3cd_96f7_11eb_828b_70665508755clevel0_row8\" class=\"row_heading level0 row8\" >Warbler</th>\n",
       "                        <td id=\"T_7a99f3cd_96f7_11eb_828b_70665508755crow8_col0\" class=\"data row8 col0\" >16</td>\n",
       "            </tr>\n",
       "            <tr>\n",
       "                        <th id=\"T_7a99f3cd_96f7_11eb_828b_70665508755clevel0_row9\" class=\"row_heading level0 row9\" >Sparrow</th>\n",
       "                        <td id=\"T_7a99f3cd_96f7_11eb_828b_70665508755crow9_col0\" class=\"data row9 col0\" >16</td>\n",
       "            </tr>\n",
       "            <tr>\n",
       "                        <th id=\"T_7a99f3cd_96f7_11eb_828b_70665508755clevel0_row10\" class=\"row_heading level0 row10\" >Nevada</th>\n",
       "                        <td id=\"T_7a99f3cd_96f7_11eb_828b_70665508755crow10_col0\" class=\"data row10 col0\" >16</td>\n",
       "            </tr>\n",
       "            <tr>\n",
       "                        <th id=\"T_7a99f3cd_96f7_11eb_828b_70665508755clevel0_row11\" class=\"row_heading level0 row11\" >Western</th>\n",
       "                        <td id=\"T_7a99f3cd_96f7_11eb_828b_70665508755crow11_col0\" class=\"data row11 col0\" >16</td>\n",
       "            </tr>\n",
       "            <tr>\n",
       "                        <th id=\"T_7a99f3cd_96f7_11eb_828b_70665508755clevel0_row12\" class=\"row_heading level0 row12\" >Long-Eared</th>\n",
       "                        <td id=\"T_7a99f3cd_96f7_11eb_828b_70665508755crow12_col0\" class=\"data row12 col0\" >16</td>\n",
       "            </tr>\n",
       "            <tr>\n",
       "                        <th id=\"T_7a99f3cd_96f7_11eb_828b_70665508755clevel0_row13\" class=\"row_heading level0 row13\" >Sierra</th>\n",
       "                        <td id=\"T_7a99f3cd_96f7_11eb_828b_70665508755crow13_col0\" class=\"data row13 col0\" >16</td>\n",
       "            </tr>\n",
       "            <tr>\n",
       "                        <th id=\"T_7a99f3cd_96f7_11eb_828b_70665508755clevel0_row14\" class=\"row_heading level0 row14\" >Hawk</th>\n",
       "                        <td id=\"T_7a99f3cd_96f7_11eb_828b_70665508755crow14_col0\" class=\"data row14 col0\" >16</td>\n",
       "            </tr>\n",
       "            <tr>\n",
       "                        <th id=\"T_7a99f3cd_96f7_11eb_828b_70665508755clevel0_row15\" class=\"row_heading level0 row15\" >Badger</th>\n",
       "                        <td id=\"T_7a99f3cd_96f7_11eb_828b_70665508755crow15_col0\" class=\"data row15 col0\" >16</td>\n",
       "            </tr>\n",
       "            <tr>\n",
       "                        <th id=\"T_7a99f3cd_96f7_11eb_828b_70665508755clevel0_row16\" class=\"row_heading level0 row16\" >Wolf</th>\n",
       "                        <td id=\"T_7a99f3cd_96f7_11eb_828b_70665508755crow16_col0\" class=\"data row16 col0\" >16</td>\n",
       "            </tr>\n",
       "            <tr>\n",
       "                        <th id=\"T_7a99f3cd_96f7_11eb_828b_70665508755clevel0_row17\" class=\"row_heading level0 row17\" >Common</th>\n",
       "                        <td id=\"T_7a99f3cd_96f7_11eb_828b_70665508755crow17_col0\" class=\"data row17 col0\" >16</td>\n",
       "            </tr>\n",
       "            <tr>\n",
       "                        <th id=\"T_7a99f3cd_96f7_11eb_828b_70665508755clevel0_row18\" class=\"row_heading level0 row18\" >Gray</th>\n",
       "                        <td id=\"T_7a99f3cd_96f7_11eb_828b_70665508755crow18_col0\" class=\"data row18 col0\" >16</td>\n",
       "            </tr>\n",
       "            <tr>\n",
       "                        <th id=\"T_7a99f3cd_96f7_11eb_828b_70665508755clevel0_row19\" class=\"row_heading level0 row19\" >Snake</th>\n",
       "                        <td id=\"T_7a99f3cd_96f7_11eb_828b_70665508755crow19_col0\" class=\"data row19 col0\" >16</td>\n",
       "            </tr>\n",
       "    </tbody></table>"
      ],
      "text/plain": [
       "<pandas.io.formats.style.Styler at 0x22eee843460>"
      ]
     },
     "metadata": {},
     "output_type": "display_data"
    }
   ],
   "source": [
    "# Create endangered dataframe for both s_info_df and join_df\n",
    "endangered_species = s_info_df[~ s_info_df.conservation_status.isin(['Low Risk'])].copy()\n",
    "endangered_obs = join_df[~ join_df.conservation_status.isin(['Low Risk'])].copy()\n",
    "\n",
    "# Remove low risk from categories\n",
    "endangered_species.conservation_status = endangered_species.conservation_status.cat.remove_unused_categories()\n",
    "endangered_obs.conservation_status = endangered_obs.conservation_status.cat.remove_unused_categories()\n",
    "\n",
    "# Crate a bag of words with all words from common names in observations\n",
    "bag_words = endangered_obs.common_names.str.replace(',', '').str.split('\\s')\n",
    "# Create a list of words\n",
    "names_words = []\n",
    "for index, words in bag_words.iteritems():\n",
    "    names_words.extend(words)\n",
    "# Find values count\n",
    "names_words = pd.Series(names_words, name='word_count')\n",
    "word_count = names_words.value_counts().to_frame()\n",
    "# Look at first 20\n",
    "display(word_count[:20].style.set_caption('Frequent words - top 20'))"
   ]
  },
  {
   "cell_type": "markdown",
   "metadata": {},
   "source": [
    "Following endangered animals are easier to observe during a visit:\n",
    "1. Bats\n",
    "1. Warblers\n",
    "1. Sparrows\n",
    "1. Hawks\n",
    "1. Snakes\n",
    "1. Badgers\n",
    "1. Wolves"
   ]
  },
  {
   "cell_type": "markdown",
   "metadata": {},
   "source": [
    "_Which animals are the most and the least observed species in each park?_"
   ]
  },
  {
   "cell_type": "markdown",
   "metadata": {},
   "source": [
    "To find answer to this question the following function I will write. It will find for each National Parks the minimum and maximum observations and the name of it."
   ]
  },
  {
   "cell_type": "code",
   "execution_count": 31,
   "metadata": {},
   "outputs": [],
   "source": [
    "def get_min_max_observations(dataF, what):\n",
    "   df = pd.DataFrame() \n",
    "   for park in dataF.park_name.unique():\n",
    "      data_by_park = dataF[ dataF.park_name == park ].reset_index(drop=True)\n",
    "      if ( what == 'min'):\n",
    "         df = df.append(data_by_park[ data_by_park.observations == data_by_park.observations.min() ] ).reset_index(drop=True)\n",
    "      elif ( what == 'max' ):\n",
    "         df = df.append(data_by_park[ data_by_park.observations == data_by_park.observations.max() ] ).reset_index(drop=True)\n",
    "      else:\n",
    "         print( 'Error, select min or max in what' )\n",
    "         return None\n",
    "   return(df.reset_index(drop=True))"
   ]
  },
  {
   "cell_type": "code",
   "execution_count": 32,
   "metadata": {},
   "outputs": [
    {
     "data": {
      "text/html": [
       "<div>\n",
       "<style scoped>\n",
       "    .dataframe tbody tr th:only-of-type {\n",
       "        vertical-align: middle;\n",
       "    }\n",
       "\n",
       "    .dataframe tbody tr th {\n",
       "        vertical-align: top;\n",
       "    }\n",
       "\n",
       "    .dataframe thead th {\n",
       "        text-align: right;\n",
       "    }\n",
       "</style>\n",
       "<table border=\"1\" class=\"dataframe\">\n",
       "  <thead>\n",
       "    <tr style=\"text-align: right;\">\n",
       "      <th></th>\n",
       "      <th>category</th>\n",
       "      <th>scientific_name</th>\n",
       "      <th>common_names</th>\n",
       "      <th>conservation_status</th>\n",
       "      <th>park_name</th>\n",
       "      <th>observations</th>\n",
       "    </tr>\n",
       "  </thead>\n",
       "  <tbody>\n",
       "    <tr>\n",
       "      <th>0</th>\n",
       "      <td>Vascular Plant</td>\n",
       "      <td>Corydalis aurea</td>\n",
       "      <td>Golden Corydalis, Scrambled Eggs</td>\n",
       "      <td>Low Risk</td>\n",
       "      <td>Bryce</td>\n",
       "      <td>9</td>\n",
       "    </tr>\n",
       "    <tr>\n",
       "      <th>1</th>\n",
       "      <td>Bird</td>\n",
       "      <td>Grus americana</td>\n",
       "      <td>Whooping Crane</td>\n",
       "      <td>Endangered</td>\n",
       "      <td>Yellowstone</td>\n",
       "      <td>57</td>\n",
       "    </tr>\n",
       "    <tr>\n",
       "      <th>2</th>\n",
       "      <td>Vascular Plant</td>\n",
       "      <td>Collomia tinctoria</td>\n",
       "      <td>Staining Collomia, Yellowstain Collomia</td>\n",
       "      <td>Low Risk</td>\n",
       "      <td>Great Smoky Mountains</td>\n",
       "      <td>10</td>\n",
       "    </tr>\n",
       "    <tr>\n",
       "      <th>3</th>\n",
       "      <td>Fish</td>\n",
       "      <td>Noturus baileyi</td>\n",
       "      <td>Smoky Madtom</td>\n",
       "      <td>Endangered</td>\n",
       "      <td>Yosemite</td>\n",
       "      <td>31</td>\n",
       "    </tr>\n",
       "  </tbody>\n",
       "</table>\n",
       "</div>"
      ],
      "text/plain": [
       "         category     scientific_name  \\\n",
       "0  Vascular Plant     Corydalis aurea   \n",
       "1            Bird      Grus americana   \n",
       "2  Vascular Plant  Collomia tinctoria   \n",
       "3            Fish     Noturus baileyi   \n",
       "\n",
       "                              common_names conservation_status  \\\n",
       "0         Golden Corydalis, Scrambled Eggs            Low Risk   \n",
       "1                           Whooping Crane          Endangered   \n",
       "2  Staining Collomia, Yellowstain Collomia            Low Risk   \n",
       "3                             Smoky Madtom          Endangered   \n",
       "\n",
       "                park_name  observations  \n",
       "0                  Bryce              9  \n",
       "1            Yellowstone             57  \n",
       "2  Great Smoky Mountains             10  \n",
       "3               Yosemite             31  "
      ]
     },
     "execution_count": 32,
     "metadata": {},
     "output_type": "execute_result"
    }
   ],
   "source": [
    "get_min_max_observations(join_df, 'min')"
   ]
  },
  {
   "cell_type": "markdown",
   "metadata": {},
   "source": [
    "**Summary:** The least observed species for: \n",
    "1. Great Smoky Mountains National Park - Collomia tinctoria with 10 observations\n",
    "1. Yosemite National Park - Noturus baileyi with 31 observations\n",
    "1. Bryce National Park - Corydalis aurea with 9 observations\n",
    "1. Yellowstone National Park - Grus americana with 57 observations"
   ]
  },
  {
   "cell_type": "code",
   "execution_count": 33,
   "metadata": {},
   "outputs": [
    {
     "data": {
      "text/html": [
       "<div>\n",
       "<style scoped>\n",
       "    .dataframe tbody tr th:only-of-type {\n",
       "        vertical-align: middle;\n",
       "    }\n",
       "\n",
       "    .dataframe tbody tr th {\n",
       "        vertical-align: top;\n",
       "    }\n",
       "\n",
       "    .dataframe thead th {\n",
       "        text-align: right;\n",
       "    }\n",
       "</style>\n",
       "<table border=\"1\" class=\"dataframe\">\n",
       "  <thead>\n",
       "    <tr style=\"text-align: right;\">\n",
       "      <th></th>\n",
       "      <th>category</th>\n",
       "      <th>scientific_name</th>\n",
       "      <th>common_names</th>\n",
       "      <th>conservation_status</th>\n",
       "      <th>park_name</th>\n",
       "      <th>observations</th>\n",
       "    </tr>\n",
       "  </thead>\n",
       "  <tbody>\n",
       "    <tr>\n",
       "      <th>0</th>\n",
       "      <td>Vascular Plant</td>\n",
       "      <td>Valerianella radiata</td>\n",
       "      <td>Beaked Corn-Salad, Corn Salad</td>\n",
       "      <td>Low Risk</td>\n",
       "      <td>Bryce</td>\n",
       "      <td>176</td>\n",
       "    </tr>\n",
       "    <tr>\n",
       "      <th>1</th>\n",
       "      <td>Vascular Plant</td>\n",
       "      <td>Lycopodium tristachyum</td>\n",
       "      <td>Deep-Root Clubmoss, Ground Cedar</td>\n",
       "      <td>Low Risk</td>\n",
       "      <td>Yellowstone</td>\n",
       "      <td>321</td>\n",
       "    </tr>\n",
       "    <tr>\n",
       "      <th>2</th>\n",
       "      <td>Vascular Plant</td>\n",
       "      <td>Sonchus asper ssp. asper</td>\n",
       "      <td>Spiny Sowthistle</td>\n",
       "      <td>Low Risk</td>\n",
       "      <td>Great Smoky Mountains</td>\n",
       "      <td>147</td>\n",
       "    </tr>\n",
       "    <tr>\n",
       "      <th>3</th>\n",
       "      <td>Vascular Plant</td>\n",
       "      <td>Ivesia shockleyi var. shockleyi</td>\n",
       "      <td>Shockley's Ivesia, Sky Mousetail</td>\n",
       "      <td>Low Risk</td>\n",
       "      <td>Yosemite</td>\n",
       "      <td>223</td>\n",
       "    </tr>\n",
       "  </tbody>\n",
       "</table>\n",
       "</div>"
      ],
      "text/plain": [
       "         category                  scientific_name  \\\n",
       "0  Vascular Plant             Valerianella radiata   \n",
       "1  Vascular Plant           Lycopodium tristachyum   \n",
       "2  Vascular Plant         Sonchus asper ssp. asper   \n",
       "3  Vascular Plant  Ivesia shockleyi var. shockleyi   \n",
       "\n",
       "                       common_names conservation_status  \\\n",
       "0     Beaked Corn-Salad, Corn Salad            Low Risk   \n",
       "1  Deep-Root Clubmoss, Ground Cedar            Low Risk   \n",
       "2                  Spiny Sowthistle            Low Risk   \n",
       "3  Shockley's Ivesia, Sky Mousetail            Low Risk   \n",
       "\n",
       "                park_name  observations  \n",
       "0                  Bryce            176  \n",
       "1            Yellowstone            321  \n",
       "2  Great Smoky Mountains            147  \n",
       "3               Yosemite            223  "
      ]
     },
     "execution_count": 33,
     "metadata": {},
     "output_type": "execute_result"
    }
   ],
   "source": [
    "get_min_max_observations(join_df, 'max')"
   ]
  },
  {
   "cell_type": "markdown",
   "metadata": {},
   "source": [
    "**Summary:** **Summary:** The most observed species for: \n",
    "1. Great Smoky Mountains National Park - Sonchus asper ssp. asper with 147 observations\n",
    "1. Yosemite National Park - Ivesia shockleyi var. shockleyi with 223 observations\n",
    "1. Bryce National Park - Valerianella radiata with 176 observations\n",
    "1. Yellowstone National Park - Lycopodium tristachyum with 321 observations"
   ]
  },
  {
   "cell_type": "markdown",
   "metadata": {},
   "source": [
    "## Scope of Project"
   ]
  },
  {
   "cell_type": "markdown",
   "metadata": {},
   "source": [
    "After completing the exploratory analysis, let's define the scope of the project. Based on what above we will investigate the following questions:"
   ]
  },
  {
   "cell_type": "markdown",
   "metadata": {},
   "source": [
    "* Which categories (Bird, Mammal, etc.) have the highest chance to become at risk an need attention?\n",
    "* Sparrow and hawks are observed frequently and they belong to the same category (birds): is the relationship between observations of these species and their risk of extinction statistically significant?\n",
    "* Which park has more observations of endangered sparrows and hawks?"
   ]
  },
  {
   "cell_type": "markdown",
   "metadata": {},
   "source": [
    "#### Species at risk"
   ]
  },
  {
   "cell_type": "code",
   "execution_count": 34,
   "metadata": {},
   "outputs": [
    {
     "data": {
      "text/html": [
       "<div>\n",
       "<style scoped>\n",
       "    .dataframe tbody tr th:only-of-type {\n",
       "        vertical-align: middle;\n",
       "    }\n",
       "\n",
       "    .dataframe tbody tr th {\n",
       "        vertical-align: top;\n",
       "    }\n",
       "\n",
       "    .dataframe thead th {\n",
       "        text-align: right;\n",
       "    }\n",
       "</style>\n",
       "<table border=\"1\" class=\"dataframe\">\n",
       "  <thead>\n",
       "    <tr style=\"text-align: right;\">\n",
       "      <th></th>\n",
       "      <th>conservation_status</th>\n",
       "    </tr>\n",
       "  </thead>\n",
       "  <tbody>\n",
       "    <tr>\n",
       "      <th>Low Risk</th>\n",
       "      <td>5362</td>\n",
       "    </tr>\n",
       "    <tr>\n",
       "      <th>Species of Concern</th>\n",
       "      <td>151</td>\n",
       "    </tr>\n",
       "    <tr>\n",
       "      <th>Endangered</th>\n",
       "      <td>15</td>\n",
       "    </tr>\n",
       "    <tr>\n",
       "      <th>Threatened</th>\n",
       "      <td>10</td>\n",
       "    </tr>\n",
       "    <tr>\n",
       "      <th>In Recovery</th>\n",
       "      <td>3</td>\n",
       "    </tr>\n",
       "  </tbody>\n",
       "</table>\n",
       "</div>"
      ],
      "text/plain": [
       "                    conservation_status\n",
       "Low Risk                           5362\n",
       "Species of Concern                  151\n",
       "Endangered                           15\n",
       "Threatened                           10\n",
       "In Recovery                           3"
      ]
     },
     "metadata": {},
     "output_type": "display_data"
    }
   ],
   "source": [
    "display(s_info_df.conservation_status.value_counts(dropna=False).to_frame())"
   ]
  },
  {
   "cell_type": "code",
   "execution_count": 35,
   "metadata": {},
   "outputs": [
    {
     "data": {
      "text/html": [
       "<div>\n",
       "<style scoped>\n",
       "    .dataframe tbody tr th:only-of-type {\n",
       "        vertical-align: middle;\n",
       "    }\n",
       "\n",
       "    .dataframe tbody tr th {\n",
       "        vertical-align: top;\n",
       "    }\n",
       "\n",
       "    .dataframe thead th {\n",
       "        text-align: right;\n",
       "    }\n",
       "</style>\n",
       "<table border=\"1\" class=\"dataframe\">\n",
       "  <thead>\n",
       "    <tr style=\"text-align: right;\">\n",
       "      <th></th>\n",
       "      <th>conservation_status</th>\n",
       "    </tr>\n",
       "  </thead>\n",
       "  <tbody>\n",
       "    <tr>\n",
       "      <th>Species of Concern</th>\n",
       "      <td>151</td>\n",
       "    </tr>\n",
       "    <tr>\n",
       "      <th>Endangered</th>\n",
       "      <td>15</td>\n",
       "    </tr>\n",
       "    <tr>\n",
       "      <th>Threatened</th>\n",
       "      <td>10</td>\n",
       "    </tr>\n",
       "    <tr>\n",
       "      <th>In Recovery</th>\n",
       "      <td>3</td>\n",
       "    </tr>\n",
       "  </tbody>\n",
       "</table>\n",
       "</div>"
      ],
      "text/plain": [
       "                    conservation_status\n",
       "Species of Concern                  151\n",
       "Endangered                           15\n",
       "Threatened                           10\n",
       "In Recovery                           3"
      ]
     },
     "metadata": {},
     "output_type": "display_data"
    }
   ],
   "source": [
    "display(endangered_species.conservation_status.value_counts(dropna=False).to_frame())"
   ]
  },
  {
   "cell_type": "markdown",
   "metadata": {},
   "source": [
    "The tables above shows the total number of conservation_status in our file. First one contain 'Low Risk' status in a table and it seems that a massive number of species are not at risk of endangered. The second table shows the same numbers but without 'Low Risk' conservation_status to better illustrate the number of conservation_status."
   ]
  },
  {
   "cell_type": "markdown",
   "metadata": {},
   "source": [
    "25 species are endangered (both Endangered and Threatened status). 3 are In Recovery and 151 species requires special attention due to the high risk of changing the status to Endangered or Threatened. "
   ]
  },
  {
   "cell_type": "markdown",
   "metadata": {},
   "source": [
    "To answer the question `Which categories (Bird, Mammal, etc.) have the highest chance to become at risk an need attention?`, the following countplot will bring the solution. "
   ]
  },
  {
   "cell_type": "code",
   "execution_count": 36,
   "metadata": {},
   "outputs": [
    {
     "data": {
      "image/png": "[encoded data removed]",
      "text/plain": [
       "<Figure size 864x576 with 1 Axes>"
      ]
     },
     "metadata": {},
     "output_type": "display_data"
    }
   ],
   "source": [
    "sns.set_palette('Set2')\n",
    "plt.figure(figsize=(12, 8))\n",
    "sns.countplot(data=endangered_species, x='conservation_status', hue='category')\n",
    "plt.legend(loc=6, bbox_to_anchor=(1, 0.5), ncol=1)\n",
    "plt.xlabel('Conservation status')\n",
    "plt.ylabel('Frequency')\n",
    "plt.title('Total number of conservation status per category (without \"Low Risk\")')\n",
    "plt.show()"
   ]
  },
  {
   "cell_type": "markdown",
   "metadata": {},
   "source": [
    "**Summary:** `Species of Concern` are those category which need special attention. This chart shows that **Birds, Vascular Plants and Mammals** are those species required special attention. "
   ]
  },
  {
   "cell_type": "markdown",
   "metadata": {},
   "source": [
    "#### Statistical significance of relationship between sparrows, hawks and conservation_status"
   ]
  },
  {
   "cell_type": "markdown",
   "metadata": {},
   "source": [
    "Is there an association between bird type (hawk or sparrow) and its conservation status (low risk or species of concern in this case)? We will investigate this by using chi2_contingency test."
   ]
  },
  {
   "cell_type": "code",
   "execution_count": 37,
   "metadata": {},
   "outputs": [
    {
     "data": {
      "text/html": [
       "<style  type=\"text/css\" >\n",
       "</style><table id=\"T_8619f569_96f7_11eb_956b_70665508755c\" ><caption>Sparrows and hawks observations (first and last rows)</caption><thead>    <tr>        <th class=\"blank level0\" ></th>        <th class=\"col_heading level0 col0\" >park_name</th>        <th class=\"col_heading level0 col1\" >common_names</th>        <th class=\"col_heading level0 col2\" >conservation_status</th>        <th class=\"col_heading level0 col3\" >hawk_or_sparrow</th>    </tr></thead><tbody>\n",
       "                <tr>\n",
       "                        <th id=\"T_8619f569_96f7_11eb_956b_70665508755clevel0_row0\" class=\"row_heading level0 row0\" >0</th>\n",
       "                        <td id=\"T_8619f569_96f7_11eb_956b_70665508755crow0_col0\" class=\"data row0 col0\" >Bryce </td>\n",
       "                        <td id=\"T_8619f569_96f7_11eb_956b_70665508755crow0_col1\" class=\"data row0 col1\" >Cooper's Hawk</td>\n",
       "                        <td id=\"T_8619f569_96f7_11eb_956b_70665508755crow0_col2\" class=\"data row0 col2\" >Species of Concern</td>\n",
       "                        <td id=\"T_8619f569_96f7_11eb_956b_70665508755crow0_col3\" class=\"data row0 col3\" >Hawk</td>\n",
       "            </tr>\n",
       "            <tr>\n",
       "                        <th id=\"T_8619f569_96f7_11eb_956b_70665508755clevel0_row1\" class=\"row_heading level0 row1\" >1</th>\n",
       "                        <td id=\"T_8619f569_96f7_11eb_956b_70665508755crow1_col0\" class=\"data row1 col0\" >Yosemite </td>\n",
       "                        <td id=\"T_8619f569_96f7_11eb_956b_70665508755crow1_col1\" class=\"data row1 col1\" >Cooper's Hawk</td>\n",
       "                        <td id=\"T_8619f569_96f7_11eb_956b_70665508755crow1_col2\" class=\"data row1 col2\" >Species of Concern</td>\n",
       "                        <td id=\"T_8619f569_96f7_11eb_956b_70665508755crow1_col3\" class=\"data row1 col3\" >Hawk</td>\n",
       "            </tr>\n",
       "            <tr>\n",
       "                        <th id=\"T_8619f569_96f7_11eb_956b_70665508755clevel0_row2\" class=\"row_heading level0 row2\" >2</th>\n",
       "                        <td id=\"T_8619f569_96f7_11eb_956b_70665508755crow2_col0\" class=\"data row2 col0\" >Yellowstone </td>\n",
       "                        <td id=\"T_8619f569_96f7_11eb_956b_70665508755crow2_col1\" class=\"data row2 col1\" >Cooper's Hawk</td>\n",
       "                        <td id=\"T_8619f569_96f7_11eb_956b_70665508755crow2_col2\" class=\"data row2 col2\" >Species of Concern</td>\n",
       "                        <td id=\"T_8619f569_96f7_11eb_956b_70665508755crow2_col3\" class=\"data row2 col3\" >Hawk</td>\n",
       "            </tr>\n",
       "            <tr>\n",
       "                        <th id=\"T_8619f569_96f7_11eb_956b_70665508755clevel0_row3\" class=\"row_heading level0 row3\" >3</th>\n",
       "                        <td id=\"T_8619f569_96f7_11eb_956b_70665508755crow3_col0\" class=\"data row3 col0\" >Great Smoky Mountains </td>\n",
       "                        <td id=\"T_8619f569_96f7_11eb_956b_70665508755crow3_col1\" class=\"data row3 col1\" >Cooper's Hawk</td>\n",
       "                        <td id=\"T_8619f569_96f7_11eb_956b_70665508755crow3_col2\" class=\"data row3 col2\" >Species of Concern</td>\n",
       "                        <td id=\"T_8619f569_96f7_11eb_956b_70665508755crow3_col3\" class=\"data row3 col3\" >Hawk</td>\n",
       "            </tr>\n",
       "            <tr>\n",
       "                        <th id=\"T_8619f569_96f7_11eb_956b_70665508755clevel0_row4\" class=\"row_heading level0 row4\" >4</th>\n",
       "                        <td id=\"T_8619f569_96f7_11eb_956b_70665508755crow4_col0\" class=\"data row4 col0\" >Yosemite </td>\n",
       "                        <td id=\"T_8619f569_96f7_11eb_956b_70665508755crow4_col1\" class=\"data row4 col1\" >Sharp-Shinned Hawk</td>\n",
       "                        <td id=\"T_8619f569_96f7_11eb_956b_70665508755crow4_col2\" class=\"data row4 col2\" >Species of Concern</td>\n",
       "                        <td id=\"T_8619f569_96f7_11eb_956b_70665508755crow4_col3\" class=\"data row4 col3\" >Hawk</td>\n",
       "            </tr>\n",
       "            <tr>\n",
       "                        <th id=\"T_8619f569_96f7_11eb_956b_70665508755clevel0_row5\" class=\"row_heading level0 row5\" >143</th>\n",
       "                        <td id=\"T_8619f569_96f7_11eb_956b_70665508755crow5_col0\" class=\"data row5 col0\" >Yosemite </td>\n",
       "                        <td id=\"T_8619f569_96f7_11eb_956b_70665508755crow5_col1\" class=\"data row5 col1\" >Gambel's White-Crowned Sparrow</td>\n",
       "                        <td id=\"T_8619f569_96f7_11eb_956b_70665508755crow5_col2\" class=\"data row5 col2\" >Low Risk</td>\n",
       "                        <td id=\"T_8619f569_96f7_11eb_956b_70665508755crow5_col3\" class=\"data row5 col3\" >Sparrow</td>\n",
       "            </tr>\n",
       "            <tr>\n",
       "                        <th id=\"T_8619f569_96f7_11eb_956b_70665508755clevel0_row6\" class=\"row_heading level0 row6\" >144</th>\n",
       "                        <td id=\"T_8619f569_96f7_11eb_956b_70665508755crow6_col0\" class=\"data row6 col0\" >Great Smoky Mountains </td>\n",
       "                        <td id=\"T_8619f569_96f7_11eb_956b_70665508755crow6_col1\" class=\"data row6 col1\" >Mountain White-Crowned Sparrow</td>\n",
       "                        <td id=\"T_8619f569_96f7_11eb_956b_70665508755crow6_col2\" class=\"data row6 col2\" >Low Risk</td>\n",
       "                        <td id=\"T_8619f569_96f7_11eb_956b_70665508755crow6_col3\" class=\"data row6 col3\" >Sparrow</td>\n",
       "            </tr>\n",
       "            <tr>\n",
       "                        <th id=\"T_8619f569_96f7_11eb_956b_70665508755clevel0_row7\" class=\"row_heading level0 row7\" >145</th>\n",
       "                        <td id=\"T_8619f569_96f7_11eb_956b_70665508755crow7_col0\" class=\"data row7 col0\" >Yellowstone </td>\n",
       "                        <td id=\"T_8619f569_96f7_11eb_956b_70665508755crow7_col1\" class=\"data row7 col1\" >Mountain White-Crowned Sparrow</td>\n",
       "                        <td id=\"T_8619f569_96f7_11eb_956b_70665508755crow7_col2\" class=\"data row7 col2\" >Low Risk</td>\n",
       "                        <td id=\"T_8619f569_96f7_11eb_956b_70665508755crow7_col3\" class=\"data row7 col3\" >Sparrow</td>\n",
       "            </tr>\n",
       "            <tr>\n",
       "                        <th id=\"T_8619f569_96f7_11eb_956b_70665508755clevel0_row8\" class=\"row_heading level0 row8\" >146</th>\n",
       "                        <td id=\"T_8619f569_96f7_11eb_956b_70665508755crow8_col0\" class=\"data row8 col0\" >Bryce </td>\n",
       "                        <td id=\"T_8619f569_96f7_11eb_956b_70665508755crow8_col1\" class=\"data row8 col1\" >Mountain White-Crowned Sparrow</td>\n",
       "                        <td id=\"T_8619f569_96f7_11eb_956b_70665508755crow8_col2\" class=\"data row8 col2\" >Low Risk</td>\n",
       "                        <td id=\"T_8619f569_96f7_11eb_956b_70665508755crow8_col3\" class=\"data row8 col3\" >Sparrow</td>\n",
       "            </tr>\n",
       "            <tr>\n",
       "                        <th id=\"T_8619f569_96f7_11eb_956b_70665508755clevel0_row9\" class=\"row_heading level0 row9\" >147</th>\n",
       "                        <td id=\"T_8619f569_96f7_11eb_956b_70665508755crow9_col0\" class=\"data row9 col0\" >Yosemite </td>\n",
       "                        <td id=\"T_8619f569_96f7_11eb_956b_70665508755crow9_col1\" class=\"data row9 col1\" >Mountain White-Crowned Sparrow</td>\n",
       "                        <td id=\"T_8619f569_96f7_11eb_956b_70665508755crow9_col2\" class=\"data row9 col2\" >Low Risk</td>\n",
       "                        <td id=\"T_8619f569_96f7_11eb_956b_70665508755crow9_col3\" class=\"data row9 col3\" >Sparrow</td>\n",
       "            </tr>\n",
       "    </tbody></table>"
      ],
      "text/plain": [
       "<pandas.io.formats.style.Styler at 0x22eef92e5e0>"
      ]
     },
     "metadata": {},
     "output_type": "display_data"
    }
   ],
   "source": [
    "# Isolate Hawks and Sparrows observations (only common_names and conservation status are required)\n",
    "SP_and_HW = join_df[(join_df.common_names.str.contains('Hawk|Sparrow')) \n",
    "                    & (join_df.category == 'Bird')].copy()\n",
    "SP_and_HW = SP_and_HW[['park_name', 'common_names', 'conservation_status']].reset_index(drop=True)\n",
    "\n",
    "# Add an Hawk or Sparrow identifier\n",
    "SP_and_HW['hawk_or_sparrow'] = SP_and_HW.common_names.apply(lambda x: 'Hawk' if 'Hawk' in x else 'Sparrow')\n",
    "\n",
    "# Display table\n",
    "display(pd.concat([SP_and_HW.head(), SP_and_HW.tail()]).style\n",
    "                  .set_caption('Sparrows and hawks observations (first and last rows)'))"
   ]
  },
  {
   "cell_type": "code",
   "execution_count": 38,
   "metadata": {},
   "outputs": [
    {
     "data": {
      "text/html": [
       "<style  type=\"text/css\" >\n",
       "</style><table id=\"T_87511f86_96f7_11eb_9637_70665508755c\" ><caption>Contingency table</caption><thead>    <tr>        <th class=\"index_name level0\" >Hawk/Sparrow</th>        <th class=\"col_heading level0 col0\" >Hawk</th>        <th class=\"col_heading level0 col1\" >Sparrow</th>    </tr>    <tr>        <th class=\"index_name level0\" >Conservation Status</th>        <th class=\"blank\" ></th>        <th class=\"blank\" ></th>    </tr></thead><tbody>\n",
       "                <tr>\n",
       "                        <th id=\"T_87511f86_96f7_11eb_9637_70665508755clevel0_row0\" class=\"row_heading level0 row0\" >Low Risk</th>\n",
       "                        <td id=\"T_87511f86_96f7_11eb_9637_70665508755crow0_col0\" class=\"data row0 col0\" >16</td>\n",
       "                        <td id=\"T_87511f86_96f7_11eb_9637_70665508755crow0_col1\" class=\"data row0 col1\" >100</td>\n",
       "            </tr>\n",
       "            <tr>\n",
       "                        <th id=\"T_87511f86_96f7_11eb_9637_70665508755clevel0_row1\" class=\"row_heading level0 row1\" >Species of Concern</th>\n",
       "                        <td id=\"T_87511f86_96f7_11eb_9637_70665508755crow1_col0\" class=\"data row1 col0\" >16</td>\n",
       "                        <td id=\"T_87511f86_96f7_11eb_9637_70665508755crow1_col1\" class=\"data row1 col1\" >16</td>\n",
       "            </tr>\n",
       "    </tbody></table>"
      ],
      "text/plain": [
       "<pandas.io.formats.style.Styler at 0x22eef918fa0>"
      ]
     },
     "metadata": {},
     "output_type": "display_data"
    }
   ],
   "source": [
    "# Create a contingency table\n",
    "contingency_SP_HW = pd.crosstab(SP_and_HW.conservation_status, SP_and_HW.hawk_or_sparrow)\n",
    "\n",
    "# Adjust row/column description\n",
    "contingency_SP_HW.rename_axis('Conservation Status', inplace=True)\n",
    "contingency_SP_HW.rename_axis('Hawk/Sparrow', axis='columns', inplace=True)\n",
    "display(contingency_SP_HW.style.set_caption('Contingency table'))"
   ]
  },
  {
   "cell_type": "code",
   "execution_count": 39,
   "metadata": {},
   "outputs": [
    {
     "name": "stdout",
     "output_type": "stream",
     "text": [
      "chi2: 17.32\n",
      "p-value: 3.151e-05\n",
      "Test result: association between variables is significant.\n"
     ]
    }
   ],
   "source": [
    "# Run chi2 test\n",
    "alpha = 0.05\n",
    "chi2, pval, _, expected_f = chi2_contingency(contingency_SP_HW)\n",
    "result = ('significant' if pval < alpha else 'not significant')\n",
    "\n",
    "print(f'chi2: {chi2:.2f}')\n",
    "print(f'p-value: {pval:.3e}')\n",
    "print(f'Test result: association between variables is {result}.')"
   ]
  },
  {
   "cell_type": "markdown",
   "metadata": {},
   "source": [
    "According to [Scipy documentation:](https://docs.scipy.org/doc/scipy/reference/generated/scipy.stats.chi2_contingency.html)"
   ]
  },
  {
   "cell_type": "markdown",
   "metadata": {},
   "source": [
    "_An often quoted guideline for the validity of this calculation is that the test should be used only if the observed and expected frequencies in each cell are at least 5._"
   ]
  },
  {
   "cell_type": "markdown",
   "metadata": {},
   "source": [
    "Our minimum frequency in contingency_SP_HW is 16. What about expected ones?"
   ]
  },
  {
   "cell_type": "code",
   "execution_count": 40,
   "metadata": {},
   "outputs": [
    {
     "data": {
      "text/html": [
       "<style  type=\"text/css\" >\n",
       "</style><table id=\"T_8945e139_96f7_11eb_a4da_70665508755c\" ><caption>Expected frequencies</caption><thead>    <tr>        <th class=\"index_name level0\" >Hawk/Sparrow</th>        <th class=\"col_heading level0 col0\" >Hawk</th>        <th class=\"col_heading level0 col1\" >Sparrow</th>    </tr>    <tr>        <th class=\"index_name level0\" >Conservation Status</th>        <th class=\"blank\" ></th>        <th class=\"blank\" ></th>    </tr></thead><tbody>\n",
       "                <tr>\n",
       "                        <th id=\"T_8945e139_96f7_11eb_a4da_70665508755clevel0_row0\" class=\"row_heading level0 row0\" >Low Risk</th>\n",
       "                        <td id=\"T_8945e139_96f7_11eb_a4da_70665508755crow0_col0\" class=\"data row0 col0\" >25.1</td>\n",
       "                        <td id=\"T_8945e139_96f7_11eb_a4da_70665508755crow0_col1\" class=\"data row0 col1\" >90.9</td>\n",
       "            </tr>\n",
       "            <tr>\n",
       "                        <th id=\"T_8945e139_96f7_11eb_a4da_70665508755clevel0_row1\" class=\"row_heading level0 row1\" >Species of Concern</th>\n",
       "                        <td id=\"T_8945e139_96f7_11eb_a4da_70665508755crow1_col0\" class=\"data row1 col0\" >6.9</td>\n",
       "                        <td id=\"T_8945e139_96f7_11eb_a4da_70665508755crow1_col1\" class=\"data row1 col1\" >25.1</td>\n",
       "            </tr>\n",
       "    </tbody></table>"
      ],
      "text/plain": [
       "<pandas.io.formats.style.Styler at 0x22eef92e970>"
      ]
     },
     "metadata": {},
     "output_type": "display_data"
    }
   ],
   "source": [
    "expected_f_df = contingency_SP_HW.copy()\n",
    "expected_f_df.iloc[:,:] = expected_f\n",
    "display(expected_f_df.style\n",
    "                     .format(\"{:.1f}\")\n",
    "                     .set_caption('Expected frequencies'))\n"
   ]
  },
  {
   "cell_type": "markdown",
   "metadata": {},
   "source": [
    "Also expected frequencies are above 5, so we can deem the test as valid: **there is a relationship between the spotted bird type (hawk or sparrow) and its conservation status.**"
   ]
  },
  {
   "cell_type": "markdown",
   "metadata": {},
   "source": [
    "This result means that it is improbable to draw an observations sample like the one we are looking at, from a population where no association exists between bird type (hawk / sparrow) and conservation status. When a bird is spotted, it is definitely easier to see a species of concern if that bird is an hawk."
   ]
  },
  {
   "cell_type": "markdown",
   "metadata": {},
   "source": [
    "Intuitively this make sense, as our database shows a proportion of species of concern which is higher for hawks than sparrows. In addition there are typically less hawks than sparrows in a stable ecosystem (as we would expect in a predator/prey relationship)."
   ]
  },
  {
   "cell_type": "code",
   "execution_count": 41,
   "metadata": {},
   "outputs": [
    {
     "data": {
      "text/html": [
       "<style  type=\"text/css\" >\n",
       "</style><table id=\"T_8b040195_96f7_11eb_9d11_70665508755c\" ><caption>Species vs conservation status</caption><thead>    <tr>        <th class=\"index_name level0\" >Hawk/Sparrow</th>        <th class=\"col_heading level0 col0\" >Hawk</th>        <th class=\"col_heading level0 col1\" >Sparrow</th>    </tr>    <tr>        <th class=\"index_name level0\" >Conservation Status</th>        <th class=\"blank\" ></th>        <th class=\"blank\" ></th>    </tr></thead><tbody>\n",
       "                <tr>\n",
       "                        <th id=\"T_8b040195_96f7_11eb_9d11_70665508755clevel0_row0\" class=\"row_heading level0 row0\" >Low Risk</th>\n",
       "                        <td id=\"T_8b040195_96f7_11eb_9d11_70665508755crow0_col0\" class=\"data row0 col0\" >4</td>\n",
       "                        <td id=\"T_8b040195_96f7_11eb_9d11_70665508755crow0_col1\" class=\"data row0 col1\" >24</td>\n",
       "            </tr>\n",
       "            <tr>\n",
       "                        <th id=\"T_8b040195_96f7_11eb_9d11_70665508755clevel0_row1\" class=\"row_heading level0 row1\" >Species of Concern</th>\n",
       "                        <td id=\"T_8b040195_96f7_11eb_9d11_70665508755crow1_col0\" class=\"data row1 col0\" >4</td>\n",
       "                        <td id=\"T_8b040195_96f7_11eb_9d11_70665508755crow1_col1\" class=\"data row1 col1\" >4</td>\n",
       "            </tr>\n",
       "    </tbody></table>"
      ],
      "text/plain": [
       "<pandas.io.formats.style.Styler at 0x22eef8b2c10>"
      ]
     },
     "metadata": {},
     "output_type": "display_data"
    }
   ],
   "source": [
    "# Find info for hawks and sparrows species\n",
    "SP_and_HW_info = s_info_df[(s_info_df.common_names.str.contains('Hawk|Sparrow')) \n",
    "                           & (s_info_df.category == 'Bird')].copy()\n",
    "\n",
    "# Add an Hawk or Sparrow identifier\n",
    "SP_and_HW_info['hawk_or_sparrow'] = SP_and_HW_info.common_names.apply(lambda x: 'Hawk' if 'Hawk' in x else 'Sparrow')\n",
    "\n",
    "# Species of concern vs low risk\n",
    "contingency_SP_HW_info = pd.crosstab(SP_and_HW_info.conservation_status, SP_and_HW_info.hawk_or_sparrow)\n",
    "\n",
    "# Adjust row/column description\n",
    "contingency_SP_HW_info.rename_axis('Conservation Status', inplace=True)\n",
    "contingency_SP_HW_info.rename_axis('Hawk/Sparrow', axis='columns', inplace=True)\n",
    "display(contingency_SP_HW_info.style.set_caption('Species vs conservation status'))"
   ]
  },
  {
   "cell_type": "markdown",
   "metadata": {},
   "source": [
    "#### Which park has more observations of endangered sparrows and hawks?"
   ]
  },
  {
   "cell_type": "code",
   "execution_count": 42,
   "metadata": {},
   "outputs": [
    {
     "data": {
      "image/png": "[encoded data removed]",
      "text/plain": [
       "<Figure size 1353.5x576 with 2 Axes>"
      ]
     },
     "metadata": {},
     "output_type": "display_data"
    }
   ],
   "source": [
    "# Remove unused categories to obtain a better plot\n",
    "SP_and_HW.conservation_status = SP_and_HW.conservation_status.cat.remove_unused_categories()\n",
    "\n",
    "# Countplot\n",
    "g = sns.catplot(x='conservation_status', col='hawk_or_sparrow',\n",
    "                hue='park_name', data=SP_and_HW,\n",
    "                kind=\"count\", height=8,\n",
    "                legend=True)\n",
    "\n",
    "# Improve lables\n",
    "for ax in g.axes[0,:]:\n",
    "    ax.set_xlabel('Conservation Status')\n",
    "g.axes[0,0].set_ylabel('Observatons')\n",
    "g.axes[0,0].set_title('Hawk')\n",
    "g.axes[0,1].set_title('Sparrow')\n",
    "g._legend.set_title('Parks')\n",
    "plt.show()"
   ]
  },
  {
   "cell_type": "markdown",
   "metadata": {},
   "source": [
    "**Summary:** It seems that in each National Parks the chance to observed sparrows and hawks is the same and it is another prove that dataset are fictional. "
   ]
  },
  {
   "cell_type": "markdown",
   "metadata": {},
   "source": [
    "## Conclusions"
   ]
  },
  {
   "cell_type": "markdown",
   "metadata": {},
   "source": [
    "I can finally review the questions from the goal section asked at the beginning:"
   ]
  },
  {
   "cell_type": "markdown",
   "metadata": {},
   "source": [
    "- How many categories are included in this dataset?\n",
    "    - There are 7  categories: Mammal, Bird, Reptile, Amphibian, Fish, Vascular Plant and Nonvascular Plant."
   ]
  },
  {
   "cell_type": "markdown",
   "metadata": {},
   "source": [
    "- Do we have a lot of species or just a few?\n",
    "    - There are 5541 different species."
   ]
  },
  {
   "cell_type": "markdown",
   "metadata": {},
   "source": [
    "- Wich park are available?\n",
    "    - There are 4 different National Park in our observations file: Great Smoky Mountains National Park, Yosemite National Park, Bryce National Park and Yellowstone National Park. "
   ]
  },
  {
   "cell_type": "markdown",
   "metadata": {},
   "source": [
    "- How looks the percentage distribution of each species category in National Parks?\n",
    "    - More than 90% species category are in 'Low Risk' and from analysys I can conclude that Mammals, Fishes, Amphibians and Birds are the most endangered species from our dataset. "
   ]
  },
  {
   "cell_type": "markdown",
   "metadata": {},
   "source": [
    "- Which endangered animals are observed frequently?\n",
    "    - The most frequently observed endangered animals from our dataset are: Bats, Warblers, Sparrows, Hawks, Snakes, Badgers and Wolves. "
   ]
  },
  {
   "cell_type": "markdown",
   "metadata": {},
   "source": [
    "- Which animals are the most and the least observed species in each park?\n",
    "    - The least observed species for: \n",
    "        - Great Smoky Mountains National Park - Collomia tinctoria with 10 observations\n",
    "        - Yosemite National Park - Noturus baileyi with 31 observations\n",
    "        - Bryce National Park - Corydalis aurea with 9 observations\n",
    "        - Yellowstone National Park - Grus americana with 57 observations\n",
    "    - The most observed species for: \n",
    "        - Great Smoky Mountains National Park - Sonchus asper ssp. asper with 147 observations\n",
    "        - Yosemite National Park - Ivesia shockleyi var. shockleyi with 223 observations\n",
    "        - Bryce National Park - Valerianella radiata with 176 observations\n",
    "        - Yellowstone National Park - Lycopodium tristachyum with 321 observations"
   ]
  },
  {
   "cell_type": "markdown",
   "metadata": {},
   "source": [
    "- Which categories (Bird, Mammal, etc.) have the highest chance to become at risk an need attention?\n",
    "    - Species of Concern are those category which need special attention. Birds, Vascular Plants and Mammals are those species required special attention."
   ]
  },
  {
   "cell_type": "markdown",
   "metadata": {},
   "source": [
    "- Sparrow and hawks are observed frequently and they belong to the same category (birds): is the relationship between observations of these species and their risk of extinction statistically significant?\n",
    "    - After conducted chi2 test I can concluded that there is a relationship between the spotted bird type (hawk or sparrow) and its conservation status."
   ]
  },
  {
   "cell_type": "markdown",
   "metadata": {},
   "source": [
    "- Which park has more observations of endangered sparrows and hawks?\n",
    "    - In each National Parks the chance to observe sparrows and hawks is the same. "
   ]
  },
  {
   "cell_type": "markdown",
   "metadata": {},
   "source": [
    "**Based on information provided by Codecademy in to datasets `observations.csv` and `species_info.csv`, and after conducting analysis I can tell with high probability that datasets are fictional.**"
   ]
  },
  {
   "cell_type": "code",
   "execution_count": null,
   "metadata": {},
   "outputs": [],
   "source": []
  }
 ],
 "metadata": {
  "kernelspec": {
   "display_name": "Python 3",
   "language": "python",
   "name": "python3"
  },
  "language_info": {
   "codemirror_mode": {
    "name": "ipython",
    "version": 3
   },
   "file_extension": ".py",
   "mimetype": "text/x-python",
   "name": "python",
   "nbconvert_exporter": "python",
   "pygments_lexer": "ipython3",
   "version": "3.8.3"
  }
 },
 "nbformat": 4,
 "nbformat_minor": 4
}
